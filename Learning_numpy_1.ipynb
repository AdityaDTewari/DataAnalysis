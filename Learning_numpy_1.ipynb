{
 "cells": [
  {
   "cell_type": "code",
   "execution_count": 1,
   "metadata": {},
   "outputs": [],
   "source": [
    "import numpy as np"
   ]
  },
  {
   "cell_type": "markdown",
   "metadata": {},
   "source": [
    "# using randn function"
   ]
  },
  {
   "cell_type": "code",
   "execution_count": 2,
   "metadata": {},
   "outputs": [
    {
     "data": {
      "text/plain": [
       "array([[-0.19344578, -1.48512945, -1.78834981],\n",
       "       [ 0.72455138,  1.13874723, -0.99196761]])"
      ]
     },
     "execution_count": 2,
     "metadata": {},
     "output_type": "execute_result"
    }
   ],
   "source": [
    "data = np.random.randn(2,3)\n",
    "data"
   ]
  },
  {
   "cell_type": "code",
   "execution_count": 3,
   "metadata": {},
   "outputs": [
    {
     "data": {
      "text/plain": [
       "array([[ -1.93445782, -14.85129445, -17.88349811],\n",
       "       [  7.24551379,  11.38747232,  -9.91967606]])"
      ]
     },
     "execution_count": 3,
     "metadata": {},
     "output_type": "execute_result"
    }
   ],
   "source": [
    "data * 10"
   ]
  },
  {
   "cell_type": "code",
   "execution_count": 4,
   "metadata": {},
   "outputs": [
    {
     "data": {
      "text/plain": [
       "(2, 3)"
      ]
     },
     "execution_count": 4,
     "metadata": {},
     "output_type": "execute_result"
    }
   ],
   "source": [
    "data.shape"
   ]
  },
  {
   "cell_type": "code",
   "execution_count": 5,
   "metadata": {},
   "outputs": [
    {
     "data": {
      "text/plain": [
       "dtype('float64')"
      ]
     },
     "execution_count": 5,
     "metadata": {},
     "output_type": "execute_result"
    }
   ],
   "source": [
    "data.dtype"
   ]
  },
  {
   "cell_type": "markdown",
   "metadata": {},
   "source": [
    "# creation of array"
   ]
  },
  {
   "cell_type": "code",
   "execution_count": 6,
   "metadata": {},
   "outputs": [],
   "source": [
    "data1 = [6, 7.5, 8, 0, 1]"
   ]
  },
  {
   "cell_type": "code",
   "execution_count": 7,
   "metadata": {},
   "outputs": [
    {
     "data": {
      "text/plain": [
       "array([6. , 7.5, 8. , 0. , 1. ])"
      ]
     },
     "execution_count": 7,
     "metadata": {},
     "output_type": "execute_result"
    }
   ],
   "source": [
    "arr1 = np.array(data1)\n",
    "arr1"
   ]
  },
  {
   "cell_type": "code",
   "execution_count": 8,
   "metadata": {},
   "outputs": [
    {
     "data": {
      "text/plain": [
       "array([[1, 2, 3, 4],\n",
       "       [5, 6, 7, 8]])"
      ]
     },
     "execution_count": 8,
     "metadata": {},
     "output_type": "execute_result"
    }
   ],
   "source": [
    "data2 = [[1, 2, 3, 4], [5, 6, 7, 8]]\n",
    "arr2 = np.array(data2)\n",
    "arr2"
   ]
  },
  {
   "cell_type": "markdown",
   "metadata": {},
   "source": [
    "# creating empty arrays"
   ]
  },
  {
   "cell_type": "code",
   "execution_count": 9,
   "metadata": {},
   "outputs": [
    {
     "data": {
      "text/plain": [
       "array([0., 0., 0., 0., 0., 0., 0., 0., 0., 0.])"
      ]
     },
     "execution_count": 9,
     "metadata": {},
     "output_type": "execute_result"
    }
   ],
   "source": [
    "np.zeros(10)"
   ]
  },
  {
   "cell_type": "code",
   "execution_count": 10,
   "metadata": {},
   "outputs": [
    {
     "data": {
      "text/plain": [
       "array([[0., 0., 0., 0., 0., 0.],\n",
       "       [0., 0., 0., 0., 0., 0.],\n",
       "       [0., 0., 0., 0., 0., 0.]])"
      ]
     },
     "execution_count": 10,
     "metadata": {},
     "output_type": "execute_result"
    }
   ],
   "source": [
    "np.zeros((3, 6))"
   ]
  },
  {
   "cell_type": "code",
   "execution_count": 11,
   "metadata": {},
   "outputs": [
    {
     "data": {
      "text/plain": [
       "array([[[1.30917313e-311, 3.16202013e-322],\n",
       "        [0.00000000e+000, 0.00000000e+000],\n",
       "        [0.00000000e+000, 1.74518339e-076]],\n",
       "\n",
       "       [[1.18995398e-075, 3.11340051e+179],\n",
       "        [1.52892343e+160, 4.00386538e+174],\n",
       "        [9.74188640e-072, 5.19061908e+170]]])"
      ]
     },
     "execution_count": 11,
     "metadata": {},
     "output_type": "execute_result"
    }
   ],
   "source": [
    "# (times, rows, columns)\n",
    "np.empty((2, 3, 2))"
   ]
  },
  {
   "cell_type": "code",
   "execution_count": 12,
   "metadata": {},
   "outputs": [
    {
     "data": {
      "text/plain": [
       "array([ 0,  1,  2,  3,  4,  5,  6,  7,  8,  9, 10, 11, 12, 13, 14])"
      ]
     },
     "execution_count": 12,
     "metadata": {},
     "output_type": "execute_result"
    }
   ],
   "source": [
    "np.arange(15)"
   ]
  },
  {
   "cell_type": "code",
   "execution_count": 13,
   "metadata": {},
   "outputs": [
    {
     "data": {
      "text/plain": [
       "array([1., 2., 3.])"
      ]
     },
     "execution_count": 13,
     "metadata": {},
     "output_type": "execute_result"
    }
   ],
   "source": [
    "arr1 = np.array([1, 2, 3], dtype=np.float64)\n",
    "arr1"
   ]
  },
  {
   "cell_type": "markdown",
   "metadata": {},
   "source": [
    "# creating string type array"
   ]
  },
  {
   "cell_type": "code",
   "execution_count": 14,
   "metadata": {},
   "outputs": [
    {
     "data": {
      "text/plain": [
       "array([b'1.25', b'-9.6', b'42'], dtype='|S4')"
      ]
     },
     "execution_count": 14,
     "metadata": {},
     "output_type": "execute_result"
    }
   ],
   "source": [
    "numeric_strings = np.array(['1.25', '-9.6', '42'], dtype = np.string_)\n",
    "numeric_strings"
   ]
  },
  {
   "cell_type": "markdown",
   "metadata": {},
   "source": [
    "# type conversion"
   ]
  },
  {
   "cell_type": "code",
   "execution_count": 15,
   "metadata": {},
   "outputs": [
    {
     "data": {
      "text/plain": [
       "array([ 1.25, -9.6 , 42.  ])"
      ]
     },
     "execution_count": 15,
     "metadata": {},
     "output_type": "execute_result"
    }
   ],
   "source": [
    "numeric_strings.astype(float)"
   ]
  },
  {
   "cell_type": "code",
   "execution_count": 16,
   "metadata": {},
   "outputs": [
    {
     "data": {
      "text/plain": [
       "array([0, 1, 2, 3, 4, 5, 6, 7, 8, 9])"
      ]
     },
     "execution_count": 16,
     "metadata": {},
     "output_type": "execute_result"
    }
   ],
   "source": [
    "int_arr = np.arange(10)\n",
    "int_arr"
   ]
  },
  {
   "cell_type": "code",
   "execution_count": 17,
   "metadata": {},
   "outputs": [
    {
     "data": {
      "text/plain": [
       "array([1., 2., 3., 4.])"
      ]
     },
     "execution_count": 17,
     "metadata": {},
     "output_type": "execute_result"
    }
   ],
   "source": [
    "float_arr = np.array([1, 2, 3, 4], dtype = np.float64)\n",
    "float_arr"
   ]
  },
  {
   "cell_type": "code",
   "execution_count": 18,
   "metadata": {},
   "outputs": [
    {
     "data": {
      "text/plain": [
       "array([0., 1., 2., 3., 4., 5., 6., 7., 8., 9.])"
      ]
     },
     "execution_count": 18,
     "metadata": {},
     "output_type": "execute_result"
    }
   ],
   "source": [
    "int_arr.astype(float_arr.dtype)"
   ]
  },
  {
   "cell_type": "markdown",
   "metadata": {},
   "source": [
    "# batchprocessing using arrays"
   ]
  },
  {
   "cell_type": "code",
   "execution_count": 19,
   "metadata": {},
   "outputs": [
    {
     "data": {
      "text/plain": [
       "array([[1., 2., 3.],\n",
       "       [4., 5., 6.]])"
      ]
     },
     "execution_count": 19,
     "metadata": {},
     "output_type": "execute_result"
    }
   ],
   "source": [
    "arr = np.array([[1, 2, 3], [4, 5, 6]], dtype = np.float64)\n",
    "arr"
   ]
  },
  {
   "cell_type": "code",
   "execution_count": 20,
   "metadata": {},
   "outputs": [
    {
     "data": {
      "text/plain": [
       "array([[ 1.,  4.,  9.],\n",
       "       [16., 25., 36.]])"
      ]
     },
     "execution_count": 20,
     "metadata": {},
     "output_type": "execute_result"
    }
   ],
   "source": [
    "arr * arr"
   ]
  },
  {
   "cell_type": "code",
   "execution_count": 21,
   "metadata": {},
   "outputs": [
    {
     "data": {
      "text/plain": [
       "array([[0., 0., 0.],\n",
       "       [0., 0., 0.]])"
      ]
     },
     "execution_count": 21,
     "metadata": {},
     "output_type": "execute_result"
    }
   ],
   "source": [
    "arr - arr"
   ]
  },
  {
   "cell_type": "code",
   "execution_count": 22,
   "metadata": {},
   "outputs": [
    {
     "data": {
      "text/plain": [
       "array([[1.        , 0.5       , 0.33333333],\n",
       "       [0.25      , 0.2       , 0.16666667]])"
      ]
     },
     "execution_count": 22,
     "metadata": {},
     "output_type": "execute_result"
    }
   ],
   "source": [
    "1/arr"
   ]
  },
  {
   "cell_type": "code",
   "execution_count": 23,
   "metadata": {},
   "outputs": [
    {
     "data": {
      "text/plain": [
       "array([[1.000e+00, 3.200e+01, 2.430e+02],\n",
       "       [1.024e+03, 3.125e+03, 7.776e+03]])"
      ]
     },
     "execution_count": 23,
     "metadata": {},
     "output_type": "execute_result"
    }
   ],
   "source": [
    "arr ** 5"
   ]
  },
  {
   "cell_type": "code",
   "execution_count": 24,
   "metadata": {},
   "outputs": [
    {
     "data": {
      "text/plain": [
       "array([[12.,  1.,  4.],\n",
       "       [ 2.,  3., 18.]])"
      ]
     },
     "execution_count": 24,
     "metadata": {},
     "output_type": "execute_result"
    }
   ],
   "source": [
    "arr2 = np.array([[12, 1, 4], [2, 3, 18]], dtype = np.float64)\n",
    "arr2"
   ]
  },
  {
   "cell_type": "code",
   "execution_count": 25,
   "metadata": {},
   "outputs": [
    {
     "data": {
      "text/plain": [
       "array([[ True, False,  True],\n",
       "       [False, False,  True]])"
      ]
     },
     "execution_count": 25,
     "metadata": {},
     "output_type": "execute_result"
    }
   ],
   "source": [
    "arr2 > arr"
   ]
  },
  {
   "cell_type": "markdown",
   "metadata": {},
   "source": [
    "# Indexing"
   ]
  },
  {
   "cell_type": "code",
   "execution_count": 26,
   "metadata": {},
   "outputs": [
    {
     "data": {
      "text/plain": [
       "array([0, 1, 2, 3, 4, 5, 6, 7, 8, 9])"
      ]
     },
     "execution_count": 26,
     "metadata": {},
     "output_type": "execute_result"
    }
   ],
   "source": [
    "arr = np.arange(10)\n",
    "arr"
   ]
  },
  {
   "cell_type": "code",
   "execution_count": 27,
   "metadata": {},
   "outputs": [
    {
     "data": {
      "text/plain": [
       "5"
      ]
     },
     "execution_count": 27,
     "metadata": {},
     "output_type": "execute_result"
    }
   ],
   "source": [
    "arr[5]"
   ]
  },
  {
   "cell_type": "code",
   "execution_count": 28,
   "metadata": {},
   "outputs": [
    {
     "data": {
      "text/plain": [
       "array([5, 6, 7])"
      ]
     },
     "execution_count": 28,
     "metadata": {},
     "output_type": "execute_result"
    }
   ],
   "source": [
    "arr[5:8]"
   ]
  },
  {
   "cell_type": "code",
   "execution_count": 29,
   "metadata": {},
   "outputs": [
    {
     "data": {
      "text/plain": [
       "array([ 0,  1,  2,  3,  4, 12, 12, 12,  8,  9])"
      ]
     },
     "execution_count": 29,
     "metadata": {},
     "output_type": "execute_result"
    }
   ],
   "source": [
    "arr[5:8] = 12\n",
    "arr"
   ]
  },
  {
   "cell_type": "code",
   "execution_count": 30,
   "metadata": {},
   "outputs": [
    {
     "data": {
      "text/plain": [
       "array([12, 12, 12])"
      ]
     },
     "execution_count": 30,
     "metadata": {},
     "output_type": "execute_result"
    }
   ],
   "source": [
    "arr_slice = arr[5:8]\n",
    "arr_slice"
   ]
  },
  {
   "cell_type": "markdown",
   "metadata": {},
   "source": [
    "## slice effects the original array"
   ]
  },
  {
   "cell_type": "code",
   "execution_count": 31,
   "metadata": {},
   "outputs": [
    {
     "data": {
      "text/plain": [
       "array([    0,     1,     2,     3,     4,    12, 12345,    12,     8,\n",
       "           9])"
      ]
     },
     "execution_count": 31,
     "metadata": {},
     "output_type": "execute_result"
    }
   ],
   "source": [
    "arr_slice[1] = 12345\n",
    "arr"
   ]
  },
  {
   "cell_type": "code",
   "execution_count": 32,
   "metadata": {},
   "outputs": [
    {
     "data": {
      "text/plain": [
       "array([   12, 12345,    12])"
      ]
     },
     "execution_count": 32,
     "metadata": {},
     "output_type": "execute_result"
    }
   ],
   "source": [
    "arr_slice = arr[5:8].copy()\n",
    "arr_slice"
   ]
  },
  {
   "cell_type": "code",
   "execution_count": 33,
   "metadata": {},
   "outputs": [
    {
     "data": {
      "text/plain": [
       "array([    0,     1,     2,     3,     4,    12, 12345,    12,     8,\n",
       "           9])"
      ]
     },
     "execution_count": 33,
     "metadata": {},
     "output_type": "execute_result"
    }
   ],
   "source": [
    "arr_slice[1] = 12\n",
    "arr"
   ]
  },
  {
   "cell_type": "code",
   "execution_count": 34,
   "metadata": {},
   "outputs": [
    {
     "data": {
      "text/plain": [
       "array([[1, 2, 3],\n",
       "       [4, 5, 6],\n",
       "       [7, 8, 9]])"
      ]
     },
     "execution_count": 34,
     "metadata": {},
     "output_type": "execute_result"
    }
   ],
   "source": [
    "arr2d = np.array([[1, 2, 3], [4, 5, 6], [7, 8, 9]])\n",
    "arr2d"
   ]
  },
  {
   "cell_type": "code",
   "execution_count": 35,
   "metadata": {},
   "outputs": [
    {
     "data": {
      "text/plain": [
       "array([7, 8, 9])"
      ]
     },
     "execution_count": 35,
     "metadata": {},
     "output_type": "execute_result"
    }
   ],
   "source": [
    "arr2d[2]"
   ]
  },
  {
   "cell_type": "code",
   "execution_count": 36,
   "metadata": {},
   "outputs": [
    {
     "data": {
      "text/plain": [
       "3"
      ]
     },
     "execution_count": 36,
     "metadata": {},
     "output_type": "execute_result"
    }
   ],
   "source": [
    "arr2d[0][2]"
   ]
  },
  {
   "cell_type": "code",
   "execution_count": 37,
   "metadata": {},
   "outputs": [
    {
     "data": {
      "text/plain": [
       "3"
      ]
     },
     "execution_count": 37,
     "metadata": {},
     "output_type": "execute_result"
    }
   ],
   "source": [
    "arr2d[0, 2]"
   ]
  },
  {
   "cell_type": "code",
   "execution_count": 38,
   "metadata": {},
   "outputs": [
    {
     "data": {
      "text/plain": [
       "array([[[ 1,  2,  3],\n",
       "        [ 4,  5,  6]],\n",
       "\n",
       "       [[ 7,  8,  9],\n",
       "        [10, 11, 12]]])"
      ]
     },
     "execution_count": 38,
     "metadata": {},
     "output_type": "execute_result"
    }
   ],
   "source": [
    "arr3d = np.array([[[1, 2, 3], [4, 5, 6]], [[7, 8, 9], [10, 11, 12]]])\n",
    "arr3d"
   ]
  },
  {
   "cell_type": "code",
   "execution_count": 39,
   "metadata": {},
   "outputs": [
    {
     "data": {
      "text/plain": [
       "array([[1, 2, 3],\n",
       "       [4, 5, 6]])"
      ]
     },
     "execution_count": 39,
     "metadata": {},
     "output_type": "execute_result"
    }
   ],
   "source": [
    "arr3d[0]"
   ]
  },
  {
   "cell_type": "code",
   "execution_count": 40,
   "metadata": {},
   "outputs": [
    {
     "data": {
      "text/plain": [
       "array([4, 5, 6])"
      ]
     },
     "execution_count": 40,
     "metadata": {},
     "output_type": "execute_result"
    }
   ],
   "source": [
    "arr3d[0][1]"
   ]
  },
  {
   "cell_type": "code",
   "execution_count": 41,
   "metadata": {},
   "outputs": [
    {
     "data": {
      "text/plain": [
       "array([[1, 2, 3],\n",
       "       [4, 5, 6]])"
      ]
     },
     "execution_count": 41,
     "metadata": {},
     "output_type": "execute_result"
    }
   ],
   "source": [
    "old_values = arr3d[0].copy()\n",
    "old_values"
   ]
  },
  {
   "cell_type": "code",
   "execution_count": 42,
   "metadata": {},
   "outputs": [
    {
     "data": {
      "text/plain": [
       "array([[[42, 42, 42],\n",
       "        [42, 42, 42]],\n",
       "\n",
       "       [[ 7,  8,  9],\n",
       "        [10, 11, 12]]])"
      ]
     },
     "execution_count": 42,
     "metadata": {},
     "output_type": "execute_result"
    }
   ],
   "source": [
    "arr3d[0] = 42\n",
    "arr3d"
   ]
  },
  {
   "cell_type": "code",
   "execution_count": 43,
   "metadata": {},
   "outputs": [
    {
     "data": {
      "text/plain": [
       "array([[[ 1,  2,  3],\n",
       "        [ 4,  5,  6]],\n",
       "\n",
       "       [[ 7,  8,  9],\n",
       "        [10, 11, 12]]])"
      ]
     },
     "execution_count": 43,
     "metadata": {},
     "output_type": "execute_result"
    }
   ],
   "source": [
    "arr3d[0] = old_values\n",
    "arr3d"
   ]
  },
  {
   "cell_type": "markdown",
   "metadata": {},
   "source": [
    "# indexing with slices"
   ]
  },
  {
   "cell_type": "code",
   "execution_count": 44,
   "metadata": {},
   "outputs": [
    {
     "data": {
      "text/plain": [
       "array([[1, 2, 3],\n",
       "       [4, 5, 6],\n",
       "       [7, 8, 9]])"
      ]
     },
     "execution_count": 44,
     "metadata": {},
     "output_type": "execute_result"
    }
   ],
   "source": [
    "arr2d"
   ]
  },
  {
   "cell_type": "code",
   "execution_count": 45,
   "metadata": {},
   "outputs": [
    {
     "data": {
      "text/plain": [
       "array([[1, 2, 3],\n",
       "       [4, 5, 6]])"
      ]
     },
     "execution_count": 45,
     "metadata": {},
     "output_type": "execute_result"
    }
   ],
   "source": [
    "arr2d[:2]"
   ]
  },
  {
   "cell_type": "code",
   "execution_count": 46,
   "metadata": {},
   "outputs": [
    {
     "data": {
      "text/plain": [
       "array([[2, 3],\n",
       "       [5, 6]])"
      ]
     },
     "execution_count": 46,
     "metadata": {},
     "output_type": "execute_result"
    }
   ],
   "source": [
    "arr2d[:2, 1:]"
   ]
  },
  {
   "cell_type": "code",
   "execution_count": 47,
   "metadata": {},
   "outputs": [
    {
     "data": {
      "text/plain": [
       "array([3, 6, 9])"
      ]
     },
     "execution_count": 47,
     "metadata": {},
     "output_type": "execute_result"
    }
   ],
   "source": [
    "arr2d[:, 2]"
   ]
  },
  {
   "cell_type": "markdown",
   "metadata": {},
   "source": [
    "# Boolean indexing (always creates a copy)"
   ]
  },
  {
   "cell_type": "code",
   "execution_count": 48,
   "metadata": {},
   "outputs": [
    {
     "data": {
      "text/plain": [
       "array(['bob', 'joe', 'will', 'bob', 'will', 'joe', 'joe'], dtype='<U4')"
      ]
     },
     "execution_count": 48,
     "metadata": {},
     "output_type": "execute_result"
    }
   ],
   "source": [
    "names = np.array(['bob', 'joe', 'will', 'bob', 'will', 'joe', 'joe'])\n",
    "names"
   ]
  },
  {
   "cell_type": "code",
   "execution_count": 49,
   "metadata": {},
   "outputs": [
    {
     "data": {
      "text/plain": [
       "array([[ 0.29135786,  0.80168292, -0.25834392, -0.21232534],\n",
       "       [-0.07343792,  0.60731349, -1.48442606, -0.63501816],\n",
       "       [ 2.31208862,  0.94215157, -0.20301091, -1.25655616],\n",
       "       [ 0.50341793, -0.19359231, -0.95758755, -0.66508913],\n",
       "       [ 0.50694954,  0.67450811,  0.72029837, -0.51908364],\n",
       "       [-1.18564534, -0.00772206, -0.39325929, -1.11210439],\n",
       "       [ 1.41325478,  0.36406949, -0.28729804, -0.83861259]])"
      ]
     },
     "execution_count": 49,
     "metadata": {},
     "output_type": "execute_result"
    }
   ],
   "source": [
    "data = np.random.randn(7 ,4)\n",
    "data"
   ]
  },
  {
   "cell_type": "code",
   "execution_count": 50,
   "metadata": {},
   "outputs": [
    {
     "data": {
      "text/plain": [
       "True"
      ]
     },
     "execution_count": 50,
     "metadata": {},
     "output_type": "execute_result"
    }
   ],
   "source": [
    "'bob' in names"
   ]
  },
  {
   "cell_type": "code",
   "execution_count": 51,
   "metadata": {},
   "outputs": [
    {
     "data": {
      "text/plain": [
       "array([ True, False, False,  True, False, False, False])"
      ]
     },
     "execution_count": 51,
     "metadata": {},
     "output_type": "execute_result"
    }
   ],
   "source": [
    "names == 'bob'"
   ]
  },
  {
   "cell_type": "code",
   "execution_count": 52,
   "metadata": {},
   "outputs": [
    {
     "data": {
      "text/plain": [
       "array([[ 0.29135786,  0.80168292, -0.25834392, -0.21232534],\n",
       "       [ 0.50341793, -0.19359231, -0.95758755, -0.66508913]])"
      ]
     },
     "execution_count": 52,
     "metadata": {},
     "output_type": "execute_result"
    }
   ],
   "source": [
    "# rows in data with same index bob == true\n",
    "data[names == 'bob']"
   ]
  },
  {
   "cell_type": "code",
   "execution_count": 53,
   "metadata": {},
   "outputs": [
    {
     "data": {
      "text/plain": [
       "array([[-0.25834392, -0.21232534],\n",
       "       [-0.95758755, -0.66508913]])"
      ]
     },
     "execution_count": 53,
     "metadata": {},
     "output_type": "execute_result"
    }
   ],
   "source": [
    "data[names == 'bob', 2:]"
   ]
  },
  {
   "cell_type": "code",
   "execution_count": 54,
   "metadata": {},
   "outputs": [
    {
     "data": {
      "text/plain": [
       "array([False,  True,  True, False,  True,  True,  True])"
      ]
     },
     "execution_count": 54,
     "metadata": {},
     "output_type": "execute_result"
    }
   ],
   "source": [
    "names != 'bob'"
   ]
  },
  {
   "cell_type": "code",
   "execution_count": 55,
   "metadata": {},
   "outputs": [
    {
     "data": {
      "text/plain": [
       "array([[-0.07343792,  0.60731349, -1.48442606, -0.63501816],\n",
       "       [ 2.31208862,  0.94215157, -0.20301091, -1.25655616],\n",
       "       [ 0.50694954,  0.67450811,  0.72029837, -0.51908364],\n",
       "       [-1.18564534, -0.00772206, -0.39325929, -1.11210439],\n",
       "       [ 1.41325478,  0.36406949, -0.28729804, -0.83861259]])"
      ]
     },
     "execution_count": 55,
     "metadata": {},
     "output_type": "execute_result"
    }
   ],
   "source": [
    "data[names != 'bob']"
   ]
  },
  {
   "cell_type": "code",
   "execution_count": 56,
   "metadata": {},
   "outputs": [
    {
     "data": {
      "text/plain": [
       "array([ True, False, False,  True, False, False, False])"
      ]
     },
     "execution_count": 56,
     "metadata": {},
     "output_type": "execute_result"
    }
   ],
   "source": [
    "cond = names == 'bob'\n",
    "cond"
   ]
  },
  {
   "cell_type": "code",
   "execution_count": 57,
   "metadata": {},
   "outputs": [
    {
     "data": {
      "text/plain": [
       "array([[ 0.29135786,  0.80168292, -0.25834392, -0.21232534],\n",
       "       [ 0.50341793, -0.19359231, -0.95758755, -0.66508913]])"
      ]
     },
     "execution_count": 57,
     "metadata": {},
     "output_type": "execute_result"
    }
   ],
   "source": [
    "data[cond]"
   ]
  },
  {
   "cell_type": "code",
   "execution_count": 58,
   "metadata": {},
   "outputs": [
    {
     "data": {
      "text/plain": [
       "array([[-0.07343792,  0.60731349, -1.48442606, -0.63501816],\n",
       "       [ 2.31208862,  0.94215157, -0.20301091, -1.25655616],\n",
       "       [ 0.50694954,  0.67450811,  0.72029837, -0.51908364],\n",
       "       [-1.18564534, -0.00772206, -0.39325929, -1.11210439],\n",
       "       [ 1.41325478,  0.36406949, -0.28729804, -0.83861259]])"
      ]
     },
     "execution_count": 58,
     "metadata": {},
     "output_type": "execute_result"
    }
   ],
   "source": [
    "data[~cond]"
   ]
  },
  {
   "cell_type": "code",
   "execution_count": 59,
   "metadata": {},
   "outputs": [
    {
     "data": {
      "text/plain": [
       "array([ True, False,  True,  True,  True, False, False])"
      ]
     },
     "execution_count": 59,
     "metadata": {},
     "output_type": "execute_result"
    }
   ],
   "source": [
    "mask = (names == 'bob') | (names == 'will')\n",
    "mask"
   ]
  },
  {
   "cell_type": "code",
   "execution_count": 60,
   "metadata": {},
   "outputs": [
    {
     "data": {
      "text/plain": [
       "array([[ 0.29135786,  0.80168292, -0.25834392, -0.21232534],\n",
       "       [ 2.31208862,  0.94215157, -0.20301091, -1.25655616],\n",
       "       [ 0.50341793, -0.19359231, -0.95758755, -0.66508913],\n",
       "       [ 0.50694954,  0.67450811,  0.72029837, -0.51908364]])"
      ]
     },
     "execution_count": 60,
     "metadata": {},
     "output_type": "execute_result"
    }
   ],
   "source": [
    "data[mask]"
   ]
  },
  {
   "cell_type": "markdown",
   "metadata": {},
   "source": [
    "# Fancy Indexing"
   ]
  },
  {
   "cell_type": "code",
   "execution_count": 61,
   "metadata": {},
   "outputs": [
    {
     "data": {
      "text/plain": [
       "array([[2.29175545e-312, 2.05833592e-312, 2.01589600e-312,\n",
       "        2.41907520e-312],\n",
       "       [6.79038654e-313, 6.79038653e-313, 2.37663529e-312,\n",
       "        2.05833592e-312],\n",
       "       [2.41907520e-312, 2.56761491e-312, 1.93101617e-312,\n",
       "        9.33678148e-313],\n",
       "       [1.06099790e-312, 6.79038653e-313, 9.33678148e-313,\n",
       "        1.10343781e-312],\n",
       "       [9.33678148e-313, 2.12199579e-312, 2.56761491e-312,\n",
       "        2.14321575e-312],\n",
       "       [1.29441743e-312, 2.33419537e-312, 9.76118064e-313,\n",
       "        2.29175545e-312],\n",
       "       [2.05833592e-312, 1.14587773e-312, 8.70018275e-313,\n",
       "        2.16443571e-312],\n",
       "       [2.35541533e-312, 2.46151512e-312, 2.05833592e-312,\n",
       "        2.41907520e-312]])"
      ]
     },
     "execution_count": 61,
     "metadata": {},
     "output_type": "execute_result"
    }
   ],
   "source": [
    "arr = np.empty((8,4))\n",
    "arr"
   ]
  },
  {
   "cell_type": "code",
   "execution_count": 62,
   "metadata": {},
   "outputs": [
    {
     "data": {
      "text/plain": [
       "array([[0., 0., 0., 0.],\n",
       "       [1., 1., 1., 1.],\n",
       "       [2., 2., 2., 2.],\n",
       "       [3., 3., 3., 3.],\n",
       "       [4., 4., 4., 4.],\n",
       "       [5., 5., 5., 5.],\n",
       "       [6., 6., 6., 6.],\n",
       "       [7., 7., 7., 7.]])"
      ]
     },
     "execution_count": 62,
     "metadata": {},
     "output_type": "execute_result"
    }
   ],
   "source": [
    "for i in range(8):\n",
    "    arr[i] = i\n",
    "arr\n",
    "# to make the output more apparent"
   ]
  },
  {
   "cell_type": "code",
   "execution_count": 63,
   "metadata": {},
   "outputs": [
    {
     "data": {
      "text/plain": [
       "array([[4., 4., 4., 4.],\n",
       "       [3., 3., 3., 3.],\n",
       "       [0., 0., 0., 0.],\n",
       "       [6., 6., 6., 6.]])"
      ]
     },
     "execution_count": 63,
     "metadata": {},
     "output_type": "execute_result"
    }
   ],
   "source": [
    "arr[[4, 3, 0, 6]] # selecting rows in any order"
   ]
  },
  {
   "cell_type": "code",
   "execution_count": 64,
   "metadata": {},
   "outputs": [
    {
     "data": {
      "text/plain": [
       "array([[5., 5., 5., 5.],\n",
       "       [3., 3., 3., 3.],\n",
       "       [1., 1., 1., 1.]])"
      ]
     },
     "execution_count": 64,
     "metadata": {},
     "output_type": "execute_result"
    }
   ],
   "source": [
    "arr[[-3, -5, -7]]"
   ]
  },
  {
   "cell_type": "code",
   "execution_count": 65,
   "metadata": {},
   "outputs": [
    {
     "data": {
      "text/plain": [
       "array([[ 0,  1,  2,  3],\n",
       "       [ 4,  5,  6,  7],\n",
       "       [ 8,  9, 10, 11],\n",
       "       [12, 13, 14, 15],\n",
       "       [16, 17, 18, 19],\n",
       "       [20, 21, 22, 23],\n",
       "       [24, 25, 26, 27],\n",
       "       [28, 29, 30, 31]])"
      ]
     },
     "execution_count": 65,
     "metadata": {},
     "output_type": "execute_result"
    }
   ],
   "source": [
    "arr = np.arange(32).reshape((8,4))\n",
    "arr"
   ]
  },
  {
   "cell_type": "code",
   "execution_count": 66,
   "metadata": {},
   "outputs": [
    {
     "data": {
      "text/plain": [
       "array([ 4, 23, 29, 10])"
      ]
     },
     "execution_count": 66,
     "metadata": {},
     "output_type": "execute_result"
    }
   ],
   "source": [
    "arr[[1, 5, 7, 2], [0, 3, 1, 2]] # elements 1,0 ; 5,3 ..."
   ]
  },
  {
   "cell_type": "code",
   "execution_count": 67,
   "metadata": {},
   "outputs": [
    {
     "data": {
      "text/plain": [
       "array([[ 4,  7,  5,  6],\n",
       "       [20, 23, 21, 22],\n",
       "       [28, 31, 29, 30],\n",
       "       [ 8, 11,  9, 10]])"
      ]
     },
     "execution_count": 67,
     "metadata": {},
     "output_type": "execute_result"
    }
   ],
   "source": [
    "arr[[1, 5, 7, 2]][:, [0, 3, 1, 2]]"
   ]
  },
  {
   "cell_type": "code",
   "execution_count": 68,
   "metadata": {},
   "outputs": [
    {
     "data": {
      "text/plain": [
       "array([[ 0,  3,  1,  2],\n",
       "       [ 4,  7,  5,  6],\n",
       "       [ 8, 11,  9, 10],\n",
       "       [12, 15, 13, 14],\n",
       "       [16, 19, 17, 18],\n",
       "       [20, 23, 21, 22],\n",
       "       [24, 27, 25, 26],\n",
       "       [28, 31, 29, 30]])"
      ]
     },
     "execution_count": 68,
     "metadata": {},
     "output_type": "execute_result"
    }
   ],
   "source": [
    "arr[:, [0, 3, 1, 2]]"
   ]
  },
  {
   "cell_type": "markdown",
   "metadata": {},
   "source": [
    "# Transposing and Swapping axes"
   ]
  },
  {
   "cell_type": "code",
   "execution_count": 69,
   "metadata": {},
   "outputs": [
    {
     "data": {
      "text/plain": [
       "array([[ 0,  1,  2,  3,  4],\n",
       "       [ 5,  6,  7,  8,  9],\n",
       "       [10, 11, 12, 13, 14]])"
      ]
     },
     "execution_count": 69,
     "metadata": {},
     "output_type": "execute_result"
    }
   ],
   "source": [
    "arr = np.arange(15).reshape((3, 5))\n",
    "arr"
   ]
  },
  {
   "cell_type": "code",
   "execution_count": 70,
   "metadata": {},
   "outputs": [
    {
     "data": {
      "text/plain": [
       "array([[ 0,  5, 10],\n",
       "       [ 1,  6, 11],\n",
       "       [ 2,  7, 12],\n",
       "       [ 3,  8, 13],\n",
       "       [ 4,  9, 14]])"
      ]
     },
     "execution_count": 70,
     "metadata": {},
     "output_type": "execute_result"
    }
   ],
   "source": [
    "arr.T"
   ]
  },
  {
   "cell_type": "code",
   "execution_count": 71,
   "metadata": {},
   "outputs": [
    {
     "data": {
      "text/plain": [
       "array([[125, 140, 155, 170, 185],\n",
       "       [140, 158, 176, 194, 212],\n",
       "       [155, 176, 197, 218, 239],\n",
       "       [170, 194, 218, 242, 266],\n",
       "       [185, 212, 239, 266, 293]])"
      ]
     },
     "execution_count": 71,
     "metadata": {},
     "output_type": "execute_result"
    }
   ],
   "source": [
    "np.dot(arr.T, arr) # inner matrix product"
   ]
  },
  {
   "cell_type": "code",
   "execution_count": 72,
   "metadata": {},
   "outputs": [
    {
     "data": {
      "text/plain": [
       "array([[[ 0,  1,  2,  3],\n",
       "        [ 4,  5,  6,  7]],\n",
       "\n",
       "       [[ 8,  9, 10, 11],\n",
       "        [12, 13, 14, 15]]])"
      ]
     },
     "execution_count": 72,
     "metadata": {},
     "output_type": "execute_result"
    }
   ],
   "source": [
    "arr = np.arange(16).reshape((2, 2, 4))\n",
    "arr"
   ]
  },
  {
   "cell_type": "code",
   "execution_count": 73,
   "metadata": {},
   "outputs": [
    {
     "data": {
      "text/plain": [
       "array([[[ 0,  8],\n",
       "        [ 4, 12]],\n",
       "\n",
       "       [[ 1,  9],\n",
       "        [ 5, 13]],\n",
       "\n",
       "       [[ 2, 10],\n",
       "        [ 6, 14]],\n",
       "\n",
       "       [[ 3, 11],\n",
       "        [ 7, 15]]])"
      ]
     },
     "execution_count": 73,
     "metadata": {},
     "output_type": "execute_result"
    }
   ],
   "source": [
    "arr.transpose()"
   ]
  },
  {
   "cell_type": "code",
   "execution_count": 74,
   "metadata": {},
   "outputs": [
    {
     "data": {
      "text/plain": [
       "array([[[ 0,  1,  2,  3],\n",
       "        [ 8,  9, 10, 11]],\n",
       "\n",
       "       [[ 4,  5,  6,  7],\n",
       "        [12, 13, 14, 15]]])"
      ]
     },
     "execution_count": 74,
     "metadata": {},
     "output_type": "execute_result"
    }
   ],
   "source": [
    "arr.transpose((1, 0, 2))"
   ]
  },
  {
   "cell_type": "code",
   "execution_count": 75,
   "metadata": {},
   "outputs": [
    {
     "data": {
      "text/plain": [
       "array([[[ 0,  4],\n",
       "        [ 1,  5],\n",
       "        [ 2,  6],\n",
       "        [ 3,  7]],\n",
       "\n",
       "       [[ 8, 12],\n",
       "        [ 9, 13],\n",
       "        [10, 14],\n",
       "        [11, 15]]])"
      ]
     },
     "execution_count": 75,
     "metadata": {},
     "output_type": "execute_result"
    }
   ],
   "source": [
    "arr.swapaxes(1,2)"
   ]
  },
  {
   "cell_type": "markdown",
   "metadata": {},
   "source": [
    "# Universal Functions"
   ]
  },
  {
   "cell_type": "code",
   "execution_count": 76,
   "metadata": {},
   "outputs": [
    {
     "data": {
      "text/plain": [
       "array([0, 1, 2, 3, 4, 5, 6, 7, 8, 9])"
      ]
     },
     "execution_count": 76,
     "metadata": {},
     "output_type": "execute_result"
    }
   ],
   "source": [
    "arr = np.arange(10)\n",
    "arr"
   ]
  },
  {
   "cell_type": "code",
   "execution_count": 77,
   "metadata": {},
   "outputs": [
    {
     "data": {
      "text/plain": [
       "array([0.        , 1.        , 1.41421356, 1.73205081, 2.        ,\n",
       "       2.23606798, 2.44948974, 2.64575131, 2.82842712, 3.        ])"
      ]
     },
     "execution_count": 77,
     "metadata": {},
     "output_type": "execute_result"
    }
   ],
   "source": [
    "np.sqrt(arr)"
   ]
  },
  {
   "cell_type": "code",
   "execution_count": 78,
   "metadata": {},
   "outputs": [
    {
     "data": {
      "text/plain": [
       "array([1.00000000e+00, 2.71828183e+00, 7.38905610e+00, 2.00855369e+01,\n",
       "       5.45981500e+01, 1.48413159e+02, 4.03428793e+02, 1.09663316e+03,\n",
       "       2.98095799e+03, 8.10308393e+03])"
      ]
     },
     "execution_count": 78,
     "metadata": {},
     "output_type": "execute_result"
    }
   ],
   "source": [
    "np.exp(arr)"
   ]
  },
  {
   "cell_type": "code",
   "execution_count": 79,
   "metadata": {},
   "outputs": [
    {
     "data": {
      "text/plain": [
       "array([-0.02659602, -0.74442452,  1.97738643,  0.17298583,  1.16897516,\n",
       "       -1.20558828, -1.54706092,  0.134697  ])"
      ]
     },
     "execution_count": 79,
     "metadata": {},
     "output_type": "execute_result"
    }
   ],
   "source": [
    "x = np.random.randn(8)\n",
    "x"
   ]
  },
  {
   "cell_type": "code",
   "execution_count": 80,
   "metadata": {},
   "outputs": [
    {
     "data": {
      "text/plain": [
       "array([-0.52161378, -0.60278386, -0.67973998,  0.4433158 ,  0.24119827,\n",
       "       -0.04459025,  0.09369254, -1.73284197])"
      ]
     },
     "execution_count": 80,
     "metadata": {},
     "output_type": "execute_result"
    }
   ],
   "source": [
    "y = np.random.randn(8)\n",
    "y"
   ]
  },
  {
   "cell_type": "code",
   "execution_count": 81,
   "metadata": {},
   "outputs": [
    {
     "data": {
      "text/plain": [
       "array([-0.02659602, -0.60278386,  1.97738643,  0.4433158 ,  1.16897516,\n",
       "       -0.04459025,  0.09369254,  0.134697  ])"
      ]
     },
     "execution_count": 81,
     "metadata": {},
     "output_type": "execute_result"
    }
   ],
   "source": [
    "np.maximum(x, y)"
   ]
  },
  {
   "cell_type": "code",
   "execution_count": 82,
   "metadata": {},
   "outputs": [
    {
     "data": {
      "text/plain": [
       "array([-7.50051863, -3.61703779,  3.91222065,  9.75334528, -2.87639161,\n",
       "        5.77095369,  1.73294497])"
      ]
     },
     "execution_count": 82,
     "metadata": {},
     "output_type": "execute_result"
    }
   ],
   "source": [
    "# to calculate fractional and integral parts\n",
    "arr = np.random.randn(7) * 5\n",
    "arr"
   ]
  },
  {
   "cell_type": "code",
   "execution_count": 83,
   "metadata": {},
   "outputs": [],
   "source": [
    "rem , whole_part = np.modf(arr)"
   ]
  },
  {
   "cell_type": "code",
   "execution_count": 84,
   "metadata": {},
   "outputs": [
    {
     "data": {
      "text/plain": [
       "array([-0.50051863, -0.61703779,  0.91222065,  0.75334528, -0.87639161,\n",
       "        0.77095369,  0.73294497])"
      ]
     },
     "execution_count": 84,
     "metadata": {},
     "output_type": "execute_result"
    }
   ],
   "source": [
    "rem"
   ]
  },
  {
   "cell_type": "code",
   "execution_count": 85,
   "metadata": {},
   "outputs": [
    {
     "data": {
      "text/plain": [
       "array([-7., -3.,  3.,  9., -2.,  5.,  1.])"
      ]
     },
     "execution_count": 85,
     "metadata": {},
     "output_type": "execute_result"
    }
   ],
   "source": [
    "whole_part"
   ]
  },
  {
   "cell_type": "code",
   "execution_count": 86,
   "metadata": {},
   "outputs": [
    {
     "name": "stderr",
     "output_type": "stream",
     "text": [
      "C:\\Users\\Aditya\\Anaconda3\\lib\\site-packages\\ipykernel_launcher.py:1: RuntimeWarning: invalid value encountered in sqrt\n",
      "  \"\"\"Entry point for launching an IPython kernel.\n"
     ]
    },
    {
     "data": {
      "text/plain": [
       "array([       nan,        nan, 1.97793343, 3.12303463,        nan,\n",
       "       2.40228094, 1.31641368])"
      ]
     },
     "execution_count": 86,
     "metadata": {},
     "output_type": "execute_result"
    }
   ],
   "source": [
    "np.sqrt(arr, arr)"
   ]
  },
  {
   "cell_type": "code",
   "execution_count": 87,
   "metadata": {},
   "outputs": [
    {
     "data": {
      "text/plain": [
       "array([       nan,        nan, 1.97793343, 3.12303463,        nan,\n",
       "       2.40228094, 1.31641368])"
      ]
     },
     "execution_count": 87,
     "metadata": {},
     "output_type": "execute_result"
    }
   ],
   "source": [
    "arr"
   ]
  },
  {
   "cell_type": "code",
   "execution_count": 88,
   "metadata": {},
   "outputs": [
    {
     "data": {
      "text/plain": [
       "array([ True,  True, False, False,  True, False, False])"
      ]
     },
     "execution_count": 88,
     "metadata": {},
     "output_type": "execute_result"
    }
   ],
   "source": [
    "np.isnan(arr)"
   ]
  },
  {
   "cell_type": "code",
   "execution_count": 89,
   "metadata": {},
   "outputs": [],
   "source": [
    "points = np.arange(-5, 5, 0.01)"
   ]
  },
  {
   "cell_type": "code",
   "execution_count": 90,
   "metadata": {},
   "outputs": [],
   "source": [
    "xs, ys = np.meshgrid(points, points)"
   ]
  },
  {
   "cell_type": "code",
   "execution_count": 91,
   "metadata": {},
   "outputs": [
    {
     "data": {
      "text/plain": [
       "array([[-5.  , -5.  , -5.  , ..., -5.  , -5.  , -5.  ],\n",
       "       [-4.99, -4.99, -4.99, ..., -4.99, -4.99, -4.99],\n",
       "       [-4.98, -4.98, -4.98, ..., -4.98, -4.98, -4.98],\n",
       "       ...,\n",
       "       [ 4.97,  4.97,  4.97, ...,  4.97,  4.97,  4.97],\n",
       "       [ 4.98,  4.98,  4.98, ...,  4.98,  4.98,  4.98],\n",
       "       [ 4.99,  4.99,  4.99, ...,  4.99,  4.99,  4.99]])"
      ]
     },
     "execution_count": 91,
     "metadata": {},
     "output_type": "execute_result"
    }
   ],
   "source": [
    "ys"
   ]
  },
  {
   "cell_type": "code",
   "execution_count": 92,
   "metadata": {},
   "outputs": [
    {
     "data": {
      "text/plain": [
       "array([[-5.  , -4.99, -4.98, ...,  4.97,  4.98,  4.99],\n",
       "       [-5.  , -4.99, -4.98, ...,  4.97,  4.98,  4.99],\n",
       "       [-5.  , -4.99, -4.98, ...,  4.97,  4.98,  4.99],\n",
       "       ...,\n",
       "       [-5.  , -4.99, -4.98, ...,  4.97,  4.98,  4.99],\n",
       "       [-5.  , -4.99, -4.98, ...,  4.97,  4.98,  4.99],\n",
       "       [-5.  , -4.99, -4.98, ...,  4.97,  4.98,  4.99]])"
      ]
     },
     "execution_count": 92,
     "metadata": {},
     "output_type": "execute_result"
    }
   ],
   "source": [
    "xs"
   ]
  },
  {
   "cell_type": "code",
   "execution_count": 93,
   "metadata": {},
   "outputs": [
    {
     "data": {
      "text/plain": [
       "array([[7.07106781, 7.06400028, 7.05693985, ..., 7.04988652, 7.05693985,\n",
       "        7.06400028],\n",
       "       [7.06400028, 7.05692568, 7.04985815, ..., 7.04279774, 7.04985815,\n",
       "        7.05692568],\n",
       "       [7.05693985, 7.04985815, 7.04278354, ..., 7.03571603, 7.04278354,\n",
       "        7.04985815],\n",
       "       ...,\n",
       "       [7.04988652, 7.04279774, 7.03571603, ..., 7.0286414 , 7.03571603,\n",
       "        7.04279774],\n",
       "       [7.05693985, 7.04985815, 7.04278354, ..., 7.03571603, 7.04278354,\n",
       "        7.04985815],\n",
       "       [7.06400028, 7.05692568, 7.04985815, ..., 7.04279774, 7.04985815,\n",
       "        7.05692568]])"
      ]
     },
     "execution_count": 93,
     "metadata": {},
     "output_type": "execute_result"
    }
   ],
   "source": [
    "z = np.sqrt(xs ** 2 + ys ** 2)\n",
    "z"
   ]
  },
  {
   "cell_type": "markdown",
   "metadata": {},
   "source": [
    "# Expressing Conditional Logic as Array Operations"
   ]
  },
  {
   "cell_type": "code",
   "execution_count": 94,
   "metadata": {},
   "outputs": [],
   "source": [
    "xarr = np.array([1.1, 1.2, 1.3, 1.4, 1.5])\n",
    "yarr = np.array([2.1, 2.2, 2.3, 2.4, 2.5])\n",
    "cond = np.array([True, False, True, True, False])"
   ]
  },
  {
   "cell_type": "code",
   "execution_count": 95,
   "metadata": {},
   "outputs": [
    {
     "data": {
      "text/plain": [
       "[1.1, 2.2, 1.3, 1.4, 2.5]"
      ]
     },
     "execution_count": 95,
     "metadata": {},
     "output_type": "execute_result"
    }
   ],
   "source": [
    "result = [(x if c else y) for x, y, c in zip(xarr, yarr, cond)]\n",
    "result"
   ]
  },
  {
   "cell_type": "code",
   "execution_count": 96,
   "metadata": {},
   "outputs": [
    {
     "data": {
      "text/plain": [
       "array([1.1, 2.2, 1.3, 1.4, 2.5])"
      ]
     },
     "execution_count": 96,
     "metadata": {},
     "output_type": "execute_result"
    }
   ],
   "source": [
    "result = np.where(cond, xarr, yarr)\n",
    "result\n",
    "# faster"
   ]
  },
  {
   "cell_type": "code",
   "execution_count": 97,
   "metadata": {},
   "outputs": [
    {
     "data": {
      "text/plain": [
       "array([[-1.87722247, -0.93022654, -1.03126833,  0.62774542],\n",
       "       [ 1.26412047, -1.58334271, -0.61846859, -0.17463494],\n",
       "       [ 0.0366543 ,  0.30177732,  0.07973636, -2.32701909],\n",
       "       [-0.75367543,  0.85319998, -0.31505715,  0.36454329]])"
      ]
     },
     "execution_count": 97,
     "metadata": {},
     "output_type": "execute_result"
    }
   ],
   "source": [
    "arr = np.random.randn(4, 4)\n",
    "arr"
   ]
  },
  {
   "cell_type": "code",
   "execution_count": 98,
   "metadata": {},
   "outputs": [
    {
     "data": {
      "text/plain": [
       "array([[-2, -2, -2,  2],\n",
       "       [ 2, -2, -2, -2],\n",
       "       [ 2,  2,  2, -2],\n",
       "       [-2,  2, -2,  2]])"
      ]
     },
     "execution_count": 98,
     "metadata": {},
     "output_type": "execute_result"
    }
   ],
   "source": [
    "result = np.where(arr > 0, 2, -2)\n",
    "result"
   ]
  },
  {
   "cell_type": "code",
   "execution_count": 99,
   "metadata": {},
   "outputs": [
    {
     "data": {
      "text/plain": [
       "array([[-1.87722247, -0.93022654, -1.03126833,  0.        ],\n",
       "       [ 0.        , -1.58334271, -0.61846859, -0.17463494],\n",
       "       [ 0.        ,  0.        ,  0.        , -2.32701909],\n",
       "       [-0.75367543,  0.        , -0.31505715,  0.        ]])"
      ]
     },
     "execution_count": 99,
     "metadata": {},
     "output_type": "execute_result"
    }
   ],
   "source": [
    "result = np.where(arr > 0, 0, arr)\n",
    "result\n",
    "# replacing only the positive values"
   ]
  },
  {
   "cell_type": "markdown",
   "metadata": {},
   "source": [
    "# Mathematical and Statistical Methods"
   ]
  },
  {
   "cell_type": "code",
   "execution_count": 100,
   "metadata": {},
   "outputs": [
    {
     "data": {
      "text/plain": [
       "array([[ 0.49791408,  0.61440121, -0.3730287 ,  0.71027131],\n",
       "       [ 2.015357  ,  1.04427777, -1.18089611, -0.12200302],\n",
       "       [ 1.65295505,  0.61612303, -0.55408357,  0.07185493],\n",
       "       [-0.89334791,  0.51479994, -1.09119034,  0.43926859],\n",
       "       [ 0.77128242,  0.24087951,  1.19437963, -0.33394819]])"
      ]
     },
     "execution_count": 100,
     "metadata": {},
     "output_type": "execute_result"
    }
   ],
   "source": [
    "arr = np.random.randn(5, 4)\n",
    "arr"
   ]
  },
  {
   "cell_type": "code",
   "execution_count": 101,
   "metadata": {},
   "outputs": [
    {
     "data": {
      "text/plain": [
       "0.29176333197059334"
      ]
     },
     "execution_count": 101,
     "metadata": {},
     "output_type": "execute_result"
    }
   ],
   "source": [
    "arr.mean()"
   ]
  },
  {
   "cell_type": "code",
   "execution_count": 102,
   "metadata": {},
   "outputs": [
    {
     "data": {
      "text/plain": [
       "0.29176333197059334"
      ]
     },
     "execution_count": 102,
     "metadata": {},
     "output_type": "execute_result"
    }
   ],
   "source": [
    "np.mean(arr)"
   ]
  },
  {
   "cell_type": "code",
   "execution_count": 103,
   "metadata": {},
   "outputs": [
    {
     "data": {
      "text/plain": [
       "5.835266639411867"
      ]
     },
     "execution_count": 103,
     "metadata": {},
     "output_type": "execute_result"
    }
   ],
   "source": [
    "arr.sum()"
   ]
  },
  {
   "cell_type": "code",
   "execution_count": 104,
   "metadata": {},
   "outputs": [
    {
     "data": {
      "text/plain": [
       "array([ 0.36238947,  0.43918391,  0.44671236, -0.25761743,  0.46814835])"
      ]
     },
     "execution_count": 104,
     "metadata": {},
     "output_type": "execute_result"
    }
   ],
   "source": [
    "arr.mean(axis = 1)"
   ]
  },
  {
   "cell_type": "code",
   "execution_count": 105,
   "metadata": {},
   "outputs": [
    {
     "data": {
      "text/plain": [
       "array([ 0.80883213,  0.60609629, -0.40096382,  0.15308873])"
      ]
     },
     "execution_count": 105,
     "metadata": {},
     "output_type": "execute_result"
    }
   ],
   "source": [
    "arr.mean(axis = 0)"
   ]
  },
  {
   "cell_type": "code",
   "execution_count": 106,
   "metadata": {},
   "outputs": [
    {
     "data": {
      "text/plain": [
       "array([ 4.04416064,  3.03048146, -2.00481909,  0.76544363])"
      ]
     },
     "execution_count": 106,
     "metadata": {},
     "output_type": "execute_result"
    }
   ],
   "source": [
    "arr.sum(axis = 0)"
   ]
  },
  {
   "cell_type": "code",
   "execution_count": 107,
   "metadata": {},
   "outputs": [
    {
     "data": {
      "text/plain": [
       "array([0, 1, 2, 3, 4, 5, 6, 7])"
      ]
     },
     "execution_count": 107,
     "metadata": {},
     "output_type": "execute_result"
    }
   ],
   "source": [
    "arr = np.arange(8)\n",
    "arr"
   ]
  },
  {
   "cell_type": "code",
   "execution_count": 108,
   "metadata": {},
   "outputs": [
    {
     "data": {
      "text/plain": [
       "array([ 0,  1,  3,  6, 10, 15, 21, 28], dtype=int32)"
      ]
     },
     "execution_count": 108,
     "metadata": {},
     "output_type": "execute_result"
    }
   ],
   "source": [
    "arr.cumsum()"
   ]
  },
  {
   "cell_type": "code",
   "execution_count": 109,
   "metadata": {},
   "outputs": [
    {
     "data": {
      "text/plain": [
       "array([[0, 1, 2],\n",
       "       [3, 4, 5],\n",
       "       [6, 7, 8]])"
      ]
     },
     "execution_count": 109,
     "metadata": {},
     "output_type": "execute_result"
    }
   ],
   "source": [
    "arr = np.array([[0, 1, 2], [3, 4, 5], [6, 7, 8]])\n",
    "arr"
   ]
  },
  {
   "cell_type": "code",
   "execution_count": 110,
   "metadata": {},
   "outputs": [
    {
     "data": {
      "text/plain": [
       "array([[ 0,  1,  2],\n",
       "       [ 3,  5,  7],\n",
       "       [ 9, 12, 15]], dtype=int32)"
      ]
     },
     "execution_count": 110,
     "metadata": {},
     "output_type": "execute_result"
    }
   ],
   "source": [
    "arr.cumsum(axis = 0)"
   ]
  },
  {
   "cell_type": "code",
   "execution_count": 111,
   "metadata": {},
   "outputs": [
    {
     "data": {
      "text/plain": [
       "array([[  0,   0,   0],\n",
       "       [  3,  12,  60],\n",
       "       [  6,  42, 336]], dtype=int32)"
      ]
     },
     "execution_count": 111,
     "metadata": {},
     "output_type": "execute_result"
    }
   ],
   "source": [
    "arr.cumprod(axis = 1)"
   ]
  },
  {
   "cell_type": "code",
   "execution_count": 112,
   "metadata": {},
   "outputs": [
    {
     "data": {
      "text/plain": [
       "array([ 1.5666597 ,  1.4873045 ,  1.37817042,  0.23596943, -0.19552159,\n",
       "       -0.24723207,  0.54951813, -0.78951448,  0.80954458, -0.39145308,\n",
       "        0.21015335,  0.30191718, -0.65591589,  0.78010622, -0.19065951,\n",
       "        0.9646155 ,  0.38830719,  0.80379088,  0.15653027, -0.2628159 ,\n",
       "       -0.22365064, -1.19179755, -1.2003898 ,  0.64201464, -0.14875297,\n",
       "        0.10196676, -1.90557765,  0.04993187, -0.90622364, -0.02830138,\n",
       "        0.91627248, -1.08168518, -1.21852608,  0.05334887,  1.1322144 ,\n",
       "       -0.46064435,  0.58313328, -1.24979276, -0.08865524,  0.8800204 ,\n",
       "       -1.0679052 ,  1.18920135, -0.25715846,  0.86076148, -1.30002036,\n",
       "        0.19214888, -0.01436521,  0.01438618,  0.45589931,  1.19027158,\n",
       "       -1.29219792, -0.51568002, -1.37734013, -1.32120083,  0.65868073,\n",
       "       -0.28083241,  0.45580843, -0.37100654, -0.50525641, -0.61178234,\n",
       "        0.0039058 , -1.42203295, -1.71297742,  0.53992255,  1.18934436,\n",
       "        0.32636294, -1.88643929, -0.32229303, -0.4522161 , -0.54006431,\n",
       "        2.05190181, -1.62676911, -0.72075817, -1.12359463, -2.04986161,\n",
       "        1.47308376,  1.10540672, -0.473817  ,  1.36329298,  0.38448696,\n",
       "       -0.41029686,  0.09684478,  0.83721617,  2.03283012,  0.73946674,\n",
       "        0.62320428, -1.38617077,  0.64181142,  0.50116281, -0.09542094,\n",
       "        1.11109387, -0.28088388, -0.36099092,  0.52234943, -0.38335589,\n",
       "        0.23758273, -0.74421037,  0.79140821, -1.62916042,  0.74747219])"
      ]
     },
     "execution_count": 112,
     "metadata": {},
     "output_type": "execute_result"
    }
   ],
   "source": [
    "arr = np.random.randn(100)\n",
    "arr"
   ]
  },
  {
   "cell_type": "code",
   "execution_count": 113,
   "metadata": {},
   "outputs": [
    {
     "data": {
      "text/plain": [
       "50"
      ]
     },
     "execution_count": 113,
     "metadata": {},
     "output_type": "execute_result"
    }
   ],
   "source": [
    "(arr > 0).sum()"
   ]
  },
  {
   "cell_type": "code",
   "execution_count": 114,
   "metadata": {},
   "outputs": [
    {
     "data": {
      "text/plain": [
       "array([False, False,  True, False])"
      ]
     },
     "execution_count": 114,
     "metadata": {},
     "output_type": "execute_result"
    }
   ],
   "source": [
    "bools = np.array([False, False, True, False])\n",
    "bools"
   ]
  },
  {
   "cell_type": "code",
   "execution_count": 115,
   "metadata": {},
   "outputs": [
    {
     "data": {
      "text/plain": [
       "True"
      ]
     },
     "execution_count": 115,
     "metadata": {},
     "output_type": "execute_result"
    }
   ],
   "source": [
    "bools.any()"
   ]
  },
  {
   "cell_type": "code",
   "execution_count": 116,
   "metadata": {},
   "outputs": [
    {
     "data": {
      "text/plain": [
       "False"
      ]
     },
     "execution_count": 116,
     "metadata": {},
     "output_type": "execute_result"
    }
   ],
   "source": [
    "bools.all()"
   ]
  },
  {
   "cell_type": "markdown",
   "metadata": {},
   "source": [
    "# Sorting"
   ]
  },
  {
   "cell_type": "code",
   "execution_count": 117,
   "metadata": {},
   "outputs": [
    {
     "data": {
      "text/plain": [
       "array([ 1.26945846,  0.6063441 ,  0.73667474,  0.45564421, -0.08764841,\n",
       "        0.71557195])"
      ]
     },
     "execution_count": 117,
     "metadata": {},
     "output_type": "execute_result"
    }
   ],
   "source": [
    "arr = np.random.randn(6)\n",
    "arr"
   ]
  },
  {
   "cell_type": "code",
   "execution_count": 118,
   "metadata": {},
   "outputs": [
    {
     "data": {
      "text/plain": [
       "array([-0.08764841,  0.45564421,  0.6063441 ,  0.71557195,  0.73667474,\n",
       "        1.26945846])"
      ]
     },
     "execution_count": 118,
     "metadata": {},
     "output_type": "execute_result"
    }
   ],
   "source": [
    "arr.sort()\n",
    "arr"
   ]
  },
  {
   "cell_type": "code",
   "execution_count": 119,
   "metadata": {},
   "outputs": [
    {
     "data": {
      "text/plain": [
       "array([[ 1.08763622, -1.58678706, -0.26731572],\n",
       "       [-0.43727871, -1.21951082,  0.73312983],\n",
       "       [ 0.62837433,  0.88037643, -1.12184185],\n",
       "       [ 0.09543439, -0.12708991, -0.61042646],\n",
       "       [-0.81278473,  1.34780437, -0.47020425]])"
      ]
     },
     "execution_count": 119,
     "metadata": {},
     "output_type": "execute_result"
    }
   ],
   "source": [
    "arr = np.random.randn(5, 3)\n",
    "arr"
   ]
  },
  {
   "cell_type": "code",
   "execution_count": 120,
   "metadata": {},
   "outputs": [
    {
     "data": {
      "text/plain": [
       "array([[-1.58678706, -0.26731572,  1.08763622],\n",
       "       [-1.21951082, -0.43727871,  0.73312983],\n",
       "       [-1.12184185,  0.62837433,  0.88037643],\n",
       "       [-0.61042646, -0.12708991,  0.09543439],\n",
       "       [-0.81278473, -0.47020425,  1.34780437]])"
      ]
     },
     "execution_count": 120,
     "metadata": {},
     "output_type": "execute_result"
    }
   ],
   "source": [
    "arr.sort(1)\n",
    "arr"
   ]
  },
  {
   "cell_type": "code",
   "execution_count": 121,
   "metadata": {},
   "outputs": [],
   "source": [
    "large_arr = np.random.randn(1000)"
   ]
  },
  {
   "cell_type": "code",
   "execution_count": 122,
   "metadata": {},
   "outputs": [
    {
     "data": {
      "text/plain": [
       "array([-3.43365007e+00, -3.28048273e+00, -2.53307544e+00, -2.49215543e+00,\n",
       "       -2.42312104e+00, -2.30017383e+00, -2.24079094e+00, -2.20490341e+00,\n",
       "       -2.15036806e+00, -2.14933591e+00, -2.10537484e+00, -2.03502369e+00,\n",
       "       -2.01766778e+00, -2.00297510e+00, -2.00145133e+00, -1.98292474e+00,\n",
       "       -1.97839352e+00, -1.96269933e+00, -1.95631988e+00, -1.95179271e+00,\n",
       "       -1.94644808e+00, -1.94018436e+00, -1.93849992e+00, -1.93528902e+00,\n",
       "       -1.93017995e+00, -1.91264443e+00, -1.90650232e+00, -1.88987294e+00,\n",
       "       -1.88854600e+00, -1.87683203e+00, -1.86672079e+00, -1.86522393e+00,\n",
       "       -1.83410524e+00, -1.82761774e+00, -1.77590907e+00, -1.76530074e+00,\n",
       "       -1.73523427e+00, -1.72712242e+00, -1.71640546e+00, -1.70422153e+00,\n",
       "       -1.69616487e+00, -1.68999833e+00, -1.68837108e+00, -1.68527703e+00,\n",
       "       -1.67816734e+00, -1.67212082e+00, -1.66895532e+00, -1.66686106e+00,\n",
       "       -1.66408850e+00, -1.64465063e+00, -1.63818365e+00, -1.63528822e+00,\n",
       "       -1.62905452e+00, -1.62664426e+00, -1.61952571e+00, -1.61312023e+00,\n",
       "       -1.60637452e+00, -1.58741274e+00, -1.58409066e+00, -1.58336015e+00,\n",
       "       -1.56635521e+00, -1.56303352e+00, -1.55574143e+00, -1.54702934e+00,\n",
       "       -1.54316739e+00, -1.53390417e+00, -1.52238399e+00, -1.51684729e+00,\n",
       "       -1.51641777e+00, -1.50797910e+00, -1.50614739e+00, -1.49707369e+00,\n",
       "       -1.48912125e+00, -1.48094581e+00, -1.48065012e+00, -1.47700976e+00,\n",
       "       -1.46457941e+00, -1.46194103e+00, -1.45877993e+00, -1.45827165e+00,\n",
       "       -1.45294034e+00, -1.44891823e+00, -1.44344771e+00, -1.43828945e+00,\n",
       "       -1.43246788e+00, -1.43062319e+00, -1.42579171e+00, -1.41451579e+00,\n",
       "       -1.41409783e+00, -1.40006314e+00, -1.39825729e+00, -1.39170469e+00,\n",
       "       -1.39112582e+00, -1.37818804e+00, -1.36967558e+00, -1.36208684e+00,\n",
       "       -1.35830870e+00, -1.35633558e+00, -1.35531081e+00, -1.34850640e+00,\n",
       "       -1.34025489e+00, -1.33630880e+00, -1.31882781e+00, -1.31340105e+00,\n",
       "       -1.30628852e+00, -1.30338461e+00, -1.30200995e+00, -1.29992570e+00,\n",
       "       -1.29585418e+00, -1.28300812e+00, -1.27694912e+00, -1.26629070e+00,\n",
       "       -1.25770188e+00, -1.25713409e+00, -1.24332150e+00, -1.23390002e+00,\n",
       "       -1.23376146e+00, -1.22412357e+00, -1.21630193e+00, -1.21573580e+00,\n",
       "       -1.21172007e+00, -1.20154515e+00, -1.20091006e+00, -1.19550453e+00,\n",
       "       -1.19123527e+00, -1.18483910e+00, -1.18167830e+00, -1.17826078e+00,\n",
       "       -1.17301167e+00, -1.16472724e+00, -1.16359209e+00, -1.15587209e+00,\n",
       "       -1.14503143e+00, -1.14483975e+00, -1.14423026e+00, -1.13715646e+00,\n",
       "       -1.12874597e+00, -1.12019623e+00, -1.11924561e+00, -1.11557875e+00,\n",
       "       -1.10908232e+00, -1.10520221e+00, -1.10337343e+00, -1.10088532e+00,\n",
       "       -1.10035932e+00, -1.08765880e+00, -1.08559732e+00, -1.07580994e+00,\n",
       "       -1.05953687e+00, -1.05722128e+00, -1.05404788e+00, -1.05197044e+00,\n",
       "       -1.02764453e+00, -1.02611808e+00, -1.02262767e+00, -1.02185704e+00,\n",
       "       -1.00955098e+00, -1.00015540e+00, -9.98490104e-01, -9.98155238e-01,\n",
       "       -9.96766375e-01, -9.88671761e-01, -9.81357342e-01, -9.79802529e-01,\n",
       "       -9.72505062e-01, -9.70856218e-01, -9.68006264e-01, -9.61743964e-01,\n",
       "       -9.60869385e-01, -9.58110167e-01, -9.52942828e-01, -9.44656272e-01,\n",
       "       -9.40605481e-01, -9.39037565e-01, -9.38467050e-01, -9.30869640e-01,\n",
       "       -9.29219072e-01, -9.28847691e-01, -9.28055724e-01, -9.25917417e-01,\n",
       "       -9.19022848e-01, -9.15714910e-01, -9.12460592e-01, -9.06864371e-01,\n",
       "       -9.00963089e-01, -8.98897038e-01, -8.92348883e-01, -8.74533688e-01,\n",
       "       -8.74496548e-01, -8.72108830e-01, -8.68615484e-01, -8.67438904e-01,\n",
       "       -8.63490370e-01, -8.58648258e-01, -8.52406514e-01, -8.41944963e-01,\n",
       "       -8.40770125e-01, -8.32052729e-01, -8.30709997e-01, -8.17945877e-01,\n",
       "       -8.16396286e-01, -8.15728498e-01, -8.11576671e-01, -8.04069814e-01,\n",
       "       -8.03599512e-01, -8.03264746e-01, -8.03210755e-01, -7.91001781e-01,\n",
       "       -7.89798511e-01, -7.86754396e-01, -7.80462167e-01, -7.79130577e-01,\n",
       "       -7.78253201e-01, -7.71532338e-01, -7.62039284e-01, -7.61928065e-01,\n",
       "       -7.61054305e-01, -7.60931121e-01, -7.52365978e-01, -7.50450343e-01,\n",
       "       -7.44405069e-01, -7.39044282e-01, -7.36192025e-01, -7.31949284e-01,\n",
       "       -7.28216690e-01, -7.28196230e-01, -7.26776070e-01, -7.26282334e-01,\n",
       "       -7.25235594e-01, -7.21323026e-01, -7.21041437e-01, -7.20785699e-01,\n",
       "       -7.11303367e-01, -7.06579912e-01, -7.05659427e-01, -7.02551665e-01,\n",
       "       -6.98169338e-01, -6.93460624e-01, -6.92146895e-01, -6.89092428e-01,\n",
       "       -6.86052943e-01, -6.85328075e-01, -6.81947850e-01, -6.78329915e-01,\n",
       "       -6.73539395e-01, -6.73504872e-01, -6.67550283e-01, -6.65343724e-01,\n",
       "       -6.61057412e-01, -6.58781876e-01, -6.57128475e-01, -6.48728132e-01,\n",
       "       -6.46219515e-01, -6.44819163e-01, -6.44490655e-01, -6.43998799e-01,\n",
       "       -6.43496604e-01, -6.42406085e-01, -6.42379041e-01, -6.38959883e-01,\n",
       "       -6.31749693e-01, -6.28285011e-01, -6.24880861e-01, -6.22029220e-01,\n",
       "       -6.15615839e-01, -6.14230890e-01, -6.11069015e-01, -6.08769075e-01,\n",
       "       -6.06917052e-01, -6.04690163e-01, -6.01606029e-01, -5.99756365e-01,\n",
       "       -5.98937467e-01, -5.93709297e-01, -5.90495155e-01, -5.88885328e-01,\n",
       "       -5.88644023e-01, -5.87612369e-01, -5.85975359e-01, -5.85414568e-01,\n",
       "       -5.85033534e-01, -5.76564467e-01, -5.76387711e-01, -5.74952247e-01,\n",
       "       -5.74484926e-01, -5.70292456e-01, -5.66393292e-01, -5.64620618e-01,\n",
       "       -5.62576093e-01, -5.60217263e-01, -5.55386633e-01, -5.53075058e-01,\n",
       "       -5.50832160e-01, -5.50691492e-01, -5.49224388e-01, -5.44873639e-01,\n",
       "       -5.43530797e-01, -5.40417141e-01, -5.39941010e-01, -5.37925802e-01,\n",
       "       -5.37525249e-01, -5.36006340e-01, -5.32208395e-01, -5.29513739e-01,\n",
       "       -5.27407506e-01, -5.25108464e-01, -5.24619688e-01, -5.24288472e-01,\n",
       "       -5.04453218e-01, -5.03182519e-01, -5.03079175e-01, -4.96607004e-01,\n",
       "       -4.92852286e-01, -4.87347969e-01, -4.87133963e-01, -4.86204696e-01,\n",
       "       -4.84021468e-01, -4.83283754e-01, -4.75969346e-01, -4.72940663e-01,\n",
       "       -4.72416168e-01, -4.66947272e-01, -4.63278440e-01, -4.63099386e-01,\n",
       "       -4.62969815e-01, -4.61824166e-01, -4.45415565e-01, -4.33528676e-01,\n",
       "       -4.31816150e-01, -4.24142998e-01, -4.22026252e-01, -4.19768556e-01,\n",
       "       -4.16985379e-01, -4.09491297e-01, -4.08998044e-01, -4.00653313e-01,\n",
       "       -3.98984721e-01, -3.97948533e-01, -3.95811235e-01, -3.90114433e-01,\n",
       "       -3.88202745e-01, -3.87815679e-01, -3.87116480e-01, -3.86602788e-01,\n",
       "       -3.86494862e-01, -3.86221795e-01, -3.83839720e-01, -3.82194681e-01,\n",
       "       -3.82011183e-01, -3.79365337e-01, -3.72992151e-01, -3.72269309e-01,\n",
       "       -3.70017144e-01, -3.69940467e-01, -3.59461123e-01, -3.57085065e-01,\n",
       "       -3.56414390e-01, -3.53258822e-01, -3.53141325e-01, -3.42445982e-01,\n",
       "       -3.40238628e-01, -3.36846711e-01, -3.32469435e-01, -3.31232740e-01,\n",
       "       -3.29778574e-01, -3.27154296e-01, -3.26567433e-01, -3.25311125e-01,\n",
       "       -3.10247676e-01, -3.06180481e-01, -3.05725287e-01, -2.95966200e-01,\n",
       "       -2.88991988e-01, -2.88583106e-01, -2.88188222e-01, -2.84917786e-01,\n",
       "       -2.81895035e-01, -2.79738682e-01, -2.74055691e-01, -2.73218811e-01,\n",
       "       -2.60003695e-01, -2.59589151e-01, -2.58731246e-01, -2.58401208e-01,\n",
       "       -2.56597423e-01, -2.54253824e-01, -2.53934606e-01, -2.53562825e-01,\n",
       "       -2.51554219e-01, -2.50828846e-01, -2.50041176e-01, -2.49025035e-01,\n",
       "       -2.49011163e-01, -2.46011627e-01, -2.40511632e-01, -2.34256984e-01,\n",
       "       -2.33888280e-01, -2.33789128e-01, -2.31740608e-01, -2.29742807e-01,\n",
       "       -2.29274632e-01, -2.28577936e-01, -2.28409845e-01, -2.25484271e-01,\n",
       "       -2.25429178e-01, -2.24490710e-01, -2.24248816e-01, -2.23675777e-01,\n",
       "       -2.23496944e-01, -2.23405085e-01, -2.22302797e-01, -2.16804029e-01,\n",
       "       -2.10914612e-01, -2.10588782e-01, -2.09252685e-01, -2.07836101e-01,\n",
       "       -2.06261928e-01, -2.05495672e-01, -2.04717727e-01, -2.04265178e-01,\n",
       "       -2.04205282e-01, -1.95205009e-01, -1.94289057e-01, -1.93734522e-01,\n",
       "       -1.91325158e-01, -1.84549990e-01, -1.80856519e-01, -1.78258287e-01,\n",
       "       -1.76585794e-01, -1.74974362e-01, -1.74881762e-01, -1.68897214e-01,\n",
       "       -1.68250543e-01, -1.62883357e-01, -1.60983844e-01, -1.59255436e-01,\n",
       "       -1.55247544e-01, -1.53751287e-01, -1.53427821e-01, -1.48933347e-01,\n",
       "       -1.47055330e-01, -1.46435313e-01, -1.45918802e-01, -1.44805723e-01,\n",
       "       -1.39355408e-01, -1.34814693e-01, -1.28301939e-01, -1.28239422e-01,\n",
       "       -1.28017553e-01, -1.27593882e-01, -1.26845515e-01, -1.26511659e-01,\n",
       "       -1.25671183e-01, -1.25548004e-01, -1.25433586e-01, -1.18477389e-01,\n",
       "       -1.16067572e-01, -1.13782477e-01, -1.13192224e-01, -1.11965362e-01,\n",
       "       -1.10851736e-01, -1.08733623e-01, -9.85546804e-02, -9.62282561e-02,\n",
       "       -9.50252664e-02, -9.21791597e-02, -9.07851634e-02, -8.97988453e-02,\n",
       "       -8.84789646e-02, -8.65377867e-02, -8.40485270e-02, -7.02731011e-02,\n",
       "       -6.76609102e-02, -6.61875536e-02, -6.43390424e-02, -6.34919632e-02,\n",
       "       -6.11633573e-02, -5.93049849e-02, -5.45225980e-02, -5.37343053e-02,\n",
       "       -4.83347330e-02, -4.79398400e-02, -4.65661595e-02, -4.54932385e-02,\n",
       "       -4.51524682e-02, -4.37820401e-02, -4.30157576e-02, -4.20221563e-02,\n",
       "       -4.06972355e-02, -3.45474195e-02, -2.90547268e-02, -2.51897610e-02,\n",
       "       -2.35857026e-02, -2.32850831e-02, -1.97714973e-02, -1.87305867e-02,\n",
       "       -1.75871697e-02, -1.57170585e-02, -1.18176090e-02, -9.54242071e-03,\n",
       "       -7.96444942e-03, -7.76068480e-03, -6.88514000e-03, -9.66668029e-04,\n",
       "        4.61577799e-04,  5.04012079e-03,  6.80755106e-03,  1.14779852e-02,\n",
       "        1.55792953e-02,  1.91187475e-02,  2.01322334e-02,  2.23271839e-02,\n",
       "        2.48764575e-02,  2.79568721e-02,  3.26032747e-02,  3.27172344e-02,\n",
       "        3.91079384e-02,  4.28344969e-02,  5.17548228e-02,  5.18317074e-02,\n",
       "        5.71579470e-02,  5.81030545e-02,  6.12560454e-02,  6.33691793e-02,\n",
       "        7.02618101e-02,  7.10166323e-02,  7.12507169e-02,  7.26515474e-02,\n",
       "        7.40831177e-02,  7.41070608e-02,  7.62740108e-02,  7.74699976e-02,\n",
       "        8.00050573e-02,  8.65081084e-02,  8.84773231e-02,  9.05151408e-02,\n",
       "        9.30991396e-02,  1.00768920e-01,  1.03055809e-01,  1.03112696e-01,\n",
       "        1.05830416e-01,  1.08941533e-01,  1.14078475e-01,  1.14295164e-01,\n",
       "        1.19981716e-01,  1.33176456e-01,  1.37460242e-01,  1.39932316e-01,\n",
       "        1.43170035e-01,  1.44176250e-01,  1.46175014e-01,  1.47952084e-01,\n",
       "        1.51256436e-01,  1.53059471e-01,  1.61602705e-01,  1.64843939e-01,\n",
       "        1.66853044e-01,  1.69262700e-01,  1.70187818e-01,  1.72607579e-01,\n",
       "        1.81588906e-01,  1.81796998e-01,  1.85134042e-01,  1.86077841e-01,\n",
       "        1.89919461e-01,  1.99830707e-01,  2.03272676e-01,  2.04170230e-01,\n",
       "        2.07862046e-01,  2.12919891e-01,  2.13783103e-01,  2.14588449e-01,\n",
       "        2.15692949e-01,  2.17733232e-01,  2.21695755e-01,  2.26609300e-01,\n",
       "        2.30684901e-01,  2.31421708e-01,  2.31443787e-01,  2.31556347e-01,\n",
       "        2.31840972e-01,  2.34412339e-01,  2.34789371e-01,  2.35137035e-01,\n",
       "        2.38261519e-01,  2.38645377e-01,  2.41725659e-01,  2.44117782e-01,\n",
       "        2.45705769e-01,  2.45927396e-01,  2.46003037e-01,  2.46830737e-01,\n",
       "        2.48308987e-01,  2.51599816e-01,  2.51776815e-01,  2.53858178e-01,\n",
       "        2.57701445e-01,  2.65118285e-01,  2.68883735e-01,  2.70611793e-01,\n",
       "        2.70782571e-01,  2.73934379e-01,  2.74121848e-01,  2.74501875e-01,\n",
       "        2.76456284e-01,  2.78633652e-01,  2.82238944e-01,  2.82279466e-01,\n",
       "        2.87506257e-01,  2.87668625e-01,  2.91256244e-01,  2.91944668e-01,\n",
       "        2.94307622e-01,  2.94746179e-01,  2.97117323e-01,  2.97493339e-01,\n",
       "        3.04181218e-01,  3.05294107e-01,  3.05743982e-01,  3.13705182e-01,\n",
       "        3.16216444e-01,  3.16470534e-01,  3.20014617e-01,  3.24925939e-01,\n",
       "        3.29608256e-01,  3.32423127e-01,  3.32664587e-01,  3.38300501e-01,\n",
       "        3.49513169e-01,  3.49585177e-01,  3.50132524e-01,  3.52691260e-01,\n",
       "        3.61880510e-01,  3.63192374e-01,  3.67081415e-01,  3.68549712e-01,\n",
       "        3.69003967e-01,  3.70740945e-01,  3.76263644e-01,  3.79842505e-01,\n",
       "        3.80881091e-01,  3.83051122e-01,  3.85201708e-01,  3.89059807e-01,\n",
       "        3.89755476e-01,  3.91129691e-01,  3.92121839e-01,  3.92270402e-01,\n",
       "        3.93677966e-01,  4.01030895e-01,  4.04277853e-01,  4.06738594e-01,\n",
       "        4.11364988e-01,  4.15554600e-01,  4.18749142e-01,  4.19956048e-01,\n",
       "        4.22552504e-01,  4.26148999e-01,  4.28808399e-01,  4.29028916e-01,\n",
       "        4.32875906e-01,  4.34253623e-01,  4.40422194e-01,  4.41747946e-01,\n",
       "        4.43445156e-01,  4.45362767e-01,  4.45382745e-01,  4.47603620e-01,\n",
       "        4.52730286e-01,  4.55721759e-01,  4.56581135e-01,  4.58835899e-01,\n",
       "        4.59668208e-01,  4.60236625e-01,  4.61902090e-01,  4.62730341e-01,\n",
       "        4.66454817e-01,  4.69049675e-01,  4.69123685e-01,  4.73626153e-01,\n",
       "        4.75313558e-01,  4.78145189e-01,  4.78343541e-01,  4.78416705e-01,\n",
       "        4.79850264e-01,  4.80870283e-01,  4.83919345e-01,  4.84722575e-01,\n",
       "        4.85217249e-01,  4.86224202e-01,  4.86366210e-01,  4.90685448e-01,\n",
       "        4.91086976e-01,  4.91791495e-01,  4.91855825e-01,  4.98527543e-01,\n",
       "        5.00254291e-01,  5.01748170e-01,  5.01938804e-01,  5.02130641e-01,\n",
       "        5.02619983e-01,  5.03433909e-01,  5.04694770e-01,  5.05560266e-01,\n",
       "        5.06201201e-01,  5.07206487e-01,  5.09429639e-01,  5.10933502e-01,\n",
       "        5.11874377e-01,  5.12722231e-01,  5.17490836e-01,  5.29626672e-01,\n",
       "        5.31974554e-01,  5.32302263e-01,  5.38057707e-01,  5.39985703e-01,\n",
       "        5.43541631e-01,  5.45012939e-01,  5.45174706e-01,  5.47545198e-01,\n",
       "        5.50268478e-01,  5.52825579e-01,  5.54113881e-01,  5.59360887e-01,\n",
       "        5.65245206e-01,  5.67713883e-01,  5.72553644e-01,  5.73475836e-01,\n",
       "        5.74099202e-01,  5.89542822e-01,  5.93300215e-01,  5.97158195e-01,\n",
       "        5.98555425e-01,  6.00674330e-01,  6.05835662e-01,  6.06674244e-01,\n",
       "        6.08052382e-01,  6.09053960e-01,  6.13374088e-01,  6.15805197e-01,\n",
       "        6.17111281e-01,  6.36181055e-01,  6.39243806e-01,  6.41887534e-01,\n",
       "        6.41948565e-01,  6.42448945e-01,  6.43569506e-01,  6.51668603e-01,\n",
       "        6.53152900e-01,  6.54766663e-01,  6.54886954e-01,  6.55438204e-01,\n",
       "        6.57078706e-01,  6.57661122e-01,  6.61603260e-01,  6.62288519e-01,\n",
       "        6.62612217e-01,  6.65325185e-01,  6.65606210e-01,  6.68172252e-01,\n",
       "        6.70549637e-01,  6.73550179e-01,  6.73905833e-01,  6.76475058e-01,\n",
       "        6.77282993e-01,  6.77998436e-01,  6.80272862e-01,  6.90585026e-01,\n",
       "        6.90769062e-01,  6.91016943e-01,  6.91988048e-01,  6.97207783e-01,\n",
       "        6.99032338e-01,  7.00782739e-01,  7.21394402e-01,  7.28756169e-01,\n",
       "        7.42153759e-01,  7.42434954e-01,  7.47676067e-01,  7.47918154e-01,\n",
       "        7.53118864e-01,  7.59298043e-01,  7.60033526e-01,  7.60354495e-01,\n",
       "        7.61304715e-01,  7.70128344e-01,  7.72689060e-01,  7.73848070e-01,\n",
       "        7.74225475e-01,  7.74547480e-01,  7.75414610e-01,  7.79179881e-01,\n",
       "        7.80600836e-01,  7.86356379e-01,  7.86745259e-01,  7.93385578e-01,\n",
       "        7.96580168e-01,  7.98588341e-01,  8.04381931e-01,  8.04492428e-01,\n",
       "        8.07579380e-01,  8.08767977e-01,  8.08871507e-01,  8.14177911e-01,\n",
       "        8.16359675e-01,  8.23983964e-01,  8.25166155e-01,  8.30218417e-01,\n",
       "        8.38707200e-01,  8.41184983e-01,  8.42512250e-01,  8.44442658e-01,\n",
       "        8.50103738e-01,  8.52114827e-01,  8.52411667e-01,  8.52862622e-01,\n",
       "        8.53264775e-01,  8.59535962e-01,  8.60279932e-01,  8.64027820e-01,\n",
       "        8.72023500e-01,  8.81714555e-01,  8.85844818e-01,  8.90154623e-01,\n",
       "        8.92504613e-01,  8.97387498e-01,  8.97540189e-01,  9.10830952e-01,\n",
       "        9.20748914e-01,  9.26632609e-01,  9.39392311e-01,  9.40064201e-01,\n",
       "        9.42716082e-01,  9.46367365e-01,  9.48654705e-01,  9.50179497e-01,\n",
       "        9.52230308e-01,  9.53255856e-01,  9.56085942e-01,  9.60652399e-01,\n",
       "        9.62948210e-01,  9.67765465e-01,  9.78568713e-01,  9.80767894e-01,\n",
       "        9.86618835e-01,  9.88208910e-01,  9.89370824e-01,  9.90619617e-01,\n",
       "        9.92175015e-01,  9.98324899e-01,  9.99047954e-01,  1.00317719e+00,\n",
       "        1.01703628e+00,  1.01758366e+00,  1.01870415e+00,  1.02434994e+00,\n",
       "        1.02494276e+00,  1.02563620e+00,  1.03346513e+00,  1.03480876e+00,\n",
       "        1.03503751e+00,  1.03881374e+00,  1.03935740e+00,  1.04336092e+00,\n",
       "        1.05601520e+00,  1.06305307e+00,  1.07719810e+00,  1.08253275e+00,\n",
       "        1.08652295e+00,  1.08667544e+00,  1.10417631e+00,  1.10917965e+00,\n",
       "        1.11364111e+00,  1.11944388e+00,  1.11967568e+00,  1.13065243e+00,\n",
       "        1.13482822e+00,  1.13930741e+00,  1.14023437e+00,  1.14347222e+00,\n",
       "        1.14467731e+00,  1.15264882e+00,  1.15440931e+00,  1.17266671e+00,\n",
       "        1.17951660e+00,  1.18491070e+00,  1.18811203e+00,  1.19822089e+00,\n",
       "        1.20581920e+00,  1.20668038e+00,  1.21487234e+00,  1.22535967e+00,\n",
       "        1.23069570e+00,  1.23566170e+00,  1.26006471e+00,  1.26572485e+00,\n",
       "        1.27753733e+00,  1.28602347e+00,  1.28849888e+00,  1.29455625e+00,\n",
       "        1.30129785e+00,  1.33047967e+00,  1.34087477e+00,  1.34702112e+00,\n",
       "        1.35888344e+00,  1.36048835e+00,  1.36626692e+00,  1.36722157e+00,\n",
       "        1.37379375e+00,  1.37770964e+00,  1.37867225e+00,  1.38199315e+00,\n",
       "        1.38906184e+00,  1.39030506e+00,  1.39712156e+00,  1.39787187e+00,\n",
       "        1.39908182e+00,  1.40400935e+00,  1.41644136e+00,  1.43246523e+00,\n",
       "        1.43445038e+00,  1.43949468e+00,  1.44193047e+00,  1.44922948e+00,\n",
       "        1.45614328e+00,  1.47504348e+00,  1.47706647e+00,  1.48347424e+00,\n",
       "        1.49044522e+00,  1.49153044e+00,  1.49924361e+00,  1.51467728e+00,\n",
       "        1.52588703e+00,  1.53211939e+00,  1.53975193e+00,  1.56706548e+00,\n",
       "        1.57354392e+00,  1.58965856e+00,  1.59027416e+00,  1.59246251e+00,\n",
       "        1.59801401e+00,  1.62327912e+00,  1.62423135e+00,  1.65382009e+00,\n",
       "        1.65400725e+00,  1.65892277e+00,  1.66276482e+00,  1.66427695e+00,\n",
       "        1.66450191e+00,  1.66686796e+00,  1.67087179e+00,  1.67141094e+00,\n",
       "        1.68928807e+00,  1.70263221e+00,  1.70443429e+00,  1.70488696e+00,\n",
       "        1.73246912e+00,  1.73998211e+00,  1.78174521e+00,  1.80865927e+00,\n",
       "        1.80945510e+00,  1.81758778e+00,  1.84510254e+00,  1.85260421e+00,\n",
       "        1.86625131e+00,  1.87099433e+00,  1.89451031e+00,  1.89630775e+00,\n",
       "        1.92630944e+00,  1.92805899e+00,  1.94073022e+00,  1.94661647e+00,\n",
       "        1.95299081e+00,  2.00567209e+00,  2.00676886e+00,  2.03223417e+00,\n",
       "        2.03327224e+00,  2.05820647e+00,  2.06540009e+00,  2.10419904e+00,\n",
       "        2.11559324e+00,  2.15740496e+00,  2.16637264e+00,  2.17301909e+00,\n",
       "        2.20868626e+00,  2.24701001e+00,  2.27454543e+00,  2.41673106e+00,\n",
       "        2.42177559e+00,  2.43934951e+00,  2.57214784e+00,  2.59255101e+00,\n",
       "        2.68746248e+00,  2.70186215e+00,  2.86407326e+00,  3.03864571e+00,\n",
       "        3.07928525e+00,  3.29220033e+00,  3.63214643e+00,  3.84442776e+00])"
      ]
     },
     "execution_count": 122,
     "metadata": {},
     "output_type": "execute_result"
    }
   ],
   "source": [
    "np.sort(large_arr) # returns a copy of sorted array"
   ]
  },
  {
   "cell_type": "markdown",
   "metadata": {},
   "source": [
    "# Unique and other set logic"
   ]
  },
  {
   "cell_type": "code",
   "execution_count": 123,
   "metadata": {},
   "outputs": [
    {
     "data": {
      "text/plain": [
       "array(['bob', 'joe', 'will', 'joe', 'joe'], dtype='<U4')"
      ]
     },
     "execution_count": 123,
     "metadata": {},
     "output_type": "execute_result"
    }
   ],
   "source": [
    "names = np.array(['bob', 'joe', 'will', 'joe', 'joe'])\n",
    "names"
   ]
  },
  {
   "cell_type": "code",
   "execution_count": 124,
   "metadata": {},
   "outputs": [
    {
     "data": {
      "text/plain": [
       "array(['bob', 'joe', 'will'], dtype='<U4')"
      ]
     },
     "execution_count": 124,
     "metadata": {},
     "output_type": "execute_result"
    }
   ],
   "source": [
    "np.unique(names)"
   ]
  },
  {
   "cell_type": "code",
   "execution_count": 125,
   "metadata": {},
   "outputs": [
    {
     "data": {
      "text/plain": [
       "array([3, 3, 3, 2, 2, 1, 1, 4, 4])"
      ]
     },
     "execution_count": 125,
     "metadata": {},
     "output_type": "execute_result"
    }
   ],
   "source": [
    "ints = np.array([3, 3, 3, 2, 2, 1, 1, 4, 4,])\n",
    "ints"
   ]
  },
  {
   "cell_type": "code",
   "execution_count": 126,
   "metadata": {},
   "outputs": [
    {
     "data": {
      "text/plain": [
       "array([1, 2, 3, 4])"
      ]
     },
     "execution_count": 126,
     "metadata": {},
     "output_type": "execute_result"
    }
   ],
   "source": [
    "np.unique(ints)"
   ]
  },
  {
   "cell_type": "code",
   "execution_count": 127,
   "metadata": {},
   "outputs": [
    {
     "data": {
      "text/plain": [
       "{'bob', 'joe', 'will'}"
      ]
     },
     "execution_count": 127,
     "metadata": {},
     "output_type": "execute_result"
    }
   ],
   "source": [
    "set(names)"
   ]
  },
  {
   "cell_type": "code",
   "execution_count": 128,
   "metadata": {},
   "outputs": [
    {
     "data": {
      "text/plain": [
       "['bob', 'joe', 'will']"
      ]
     },
     "execution_count": 128,
     "metadata": {},
     "output_type": "execute_result"
    }
   ],
   "source": [
    "sorted(set(names))"
   ]
  },
  {
   "cell_type": "code",
   "execution_count": 129,
   "metadata": {},
   "outputs": [],
   "source": [
    "values = np.array([6, 0, 0, 3, 2, 5, 6])"
   ]
  },
  {
   "cell_type": "code",
   "execution_count": 130,
   "metadata": {},
   "outputs": [
    {
     "data": {
      "text/plain": [
       "array([ True, False, False,  True,  True, False,  True])"
      ]
     },
     "execution_count": 130,
     "metadata": {},
     "output_type": "execute_result"
    }
   ],
   "source": [
    "np.in1d(values, [2, 3, 6])"
   ]
  },
  {
   "cell_type": "markdown",
   "metadata": {},
   "source": [
    "# File input and output with arrays"
   ]
  },
  {
   "cell_type": "code",
   "execution_count": 131,
   "metadata": {},
   "outputs": [
    {
     "data": {
      "text/plain": [
       "array([0, 1, 2, 3, 4, 5, 6, 7, 8, 9])"
      ]
     },
     "execution_count": 131,
     "metadata": {},
     "output_type": "execute_result"
    }
   ],
   "source": [
    "arr = np.arange(10)\n",
    "arr"
   ]
  },
  {
   "cell_type": "code",
   "execution_count": 132,
   "metadata": {},
   "outputs": [],
   "source": [
    "np.save('some_array', arr)"
   ]
  },
  {
   "cell_type": "code",
   "execution_count": 133,
   "metadata": {},
   "outputs": [
    {
     "data": {
      "text/plain": [
       "array([0, 1, 2, 3, 4, 5, 6, 7, 8, 9])"
      ]
     },
     "execution_count": 133,
     "metadata": {},
     "output_type": "execute_result"
    }
   ],
   "source": [
    "np.load('some_array.npy')"
   ]
  },
  {
   "cell_type": "code",
   "execution_count": 134,
   "metadata": {},
   "outputs": [],
   "source": [
    "np.savez('array_archive.npz', a = arr, b = arr)"
   ]
  },
  {
   "cell_type": "code",
   "execution_count": 135,
   "metadata": {},
   "outputs": [],
   "source": [
    "arch = np.load('array_archive.npz')"
   ]
  },
  {
   "cell_type": "code",
   "execution_count": 136,
   "metadata": {},
   "outputs": [
    {
     "data": {
      "text/plain": [
       "array([0, 1, 2, 3, 4, 5, 6, 7, 8, 9])"
      ]
     },
     "execution_count": 136,
     "metadata": {},
     "output_type": "execute_result"
    }
   ],
   "source": [
    "arch['b']"
   ]
  },
  {
   "cell_type": "code",
   "execution_count": 137,
   "metadata": {},
   "outputs": [],
   "source": [
    "np.savez_compressed('array_compressed.npz')"
   ]
  },
  {
   "cell_type": "markdown",
   "metadata": {},
   "source": [
    "# Linear Algebra"
   ]
  },
  {
   "cell_type": "code",
   "execution_count": 138,
   "metadata": {},
   "outputs": [
    {
     "data": {
      "text/plain": [
       "array([[1., 2., 3.],\n",
       "       [4., 5., 6.]])"
      ]
     },
     "execution_count": 138,
     "metadata": {},
     "output_type": "execute_result"
    }
   ],
   "source": [
    "x = np.array([[1., 2., 3.], [4., 5., 6.]])\n",
    "x"
   ]
  },
  {
   "cell_type": "code",
   "execution_count": 139,
   "metadata": {},
   "outputs": [
    {
     "data": {
      "text/plain": [
       "array([[ 6., 23.],\n",
       "       [-1.,  7.],\n",
       "       [ 8.,  9.]])"
      ]
     },
     "execution_count": 139,
     "metadata": {},
     "output_type": "execute_result"
    }
   ],
   "source": [
    "y = np.array([[6., 23.], [-1., 7.], [8, 9]])\n",
    "y"
   ]
  },
  {
   "cell_type": "code",
   "execution_count": 140,
   "metadata": {},
   "outputs": [
    {
     "data": {
      "text/plain": [
       "array([[ 28.,  64.],\n",
       "       [ 67., 181.]])"
      ]
     },
     "execution_count": 140,
     "metadata": {},
     "output_type": "execute_result"
    }
   ],
   "source": [
    "x.dot(y)"
   ]
  },
  {
   "cell_type": "code",
   "execution_count": 141,
   "metadata": {},
   "outputs": [
    {
     "data": {
      "text/plain": [
       "array([[ 28.,  64.],\n",
       "       [ 67., 181.]])"
      ]
     },
     "execution_count": 141,
     "metadata": {},
     "output_type": "execute_result"
    }
   ],
   "source": [
    "np.dot(x, y)"
   ]
  },
  {
   "cell_type": "code",
   "execution_count": 142,
   "metadata": {},
   "outputs": [
    {
     "data": {
      "text/plain": [
       "array([ 6., 15.])"
      ]
     },
     "execution_count": 142,
     "metadata": {},
     "output_type": "execute_result"
    }
   ],
   "source": [
    "np.dot(x, np.ones(3))"
   ]
  },
  {
   "cell_type": "code",
   "execution_count": 143,
   "metadata": {},
   "outputs": [
    {
     "data": {
      "text/plain": [
       "array([ 6., 15.])"
      ]
     },
     "execution_count": 143,
     "metadata": {},
     "output_type": "execute_result"
    }
   ],
   "source": [
    "x @ np.ones(3)"
   ]
  },
  {
   "cell_type": "code",
   "execution_count": 162,
   "metadata": {},
   "outputs": [
    {
     "ename": "ImportError",
     "evalue": "cannot import name 'trace' from 'numpy.linalg' (C:\\Users\\Aditya\\Anaconda3\\lib\\site-packages\\numpy\\linalg\\__init__.py)",
     "output_type": "error",
     "traceback": [
      "\u001b[1;31m---------------------------------------------------------------------------\u001b[0m",
      "\u001b[1;31mImportError\u001b[0m                               Traceback (most recent call last)",
      "\u001b[1;32m<ipython-input-162-8cfe4fd49620>\u001b[0m in \u001b[0;36m<module>\u001b[1;34m\u001b[0m\n\u001b[1;32m----> 1\u001b[1;33m \u001b[1;32mfrom\u001b[0m \u001b[0mnumpy\u001b[0m\u001b[1;33m.\u001b[0m\u001b[0mlinalg\u001b[0m \u001b[1;32mimport\u001b[0m \u001b[0minv\u001b[0m\u001b[1;33m,\u001b[0m \u001b[0mqr\u001b[0m\u001b[1;33m,\u001b[0m \u001b[0mtrace\u001b[0m\u001b[1;33m\u001b[0m\u001b[1;33m\u001b[0m\u001b[0m\n\u001b[0m",
      "\u001b[1;31mImportError\u001b[0m: cannot import name 'trace' from 'numpy.linalg' (C:\\Users\\Aditya\\Anaconda3\\lib\\site-packages\\numpy\\linalg\\__init__.py)"
     ]
    }
   ],
   "source": [
    "from numpy.linalg import inv, qr"
   ]
  },
  {
   "cell_type": "code",
   "execution_count": 150,
   "metadata": {},
   "outputs": [
    {
     "data": {
      "text/plain": [
       "array([[ 0.64432203,  0.92251271, -1.34985615,  0.77294529, -1.03078301],\n",
       "       [ 1.51010049,  2.43235633,  0.37679622, -0.93004945,  0.19371191],\n",
       "       [-0.59289299, -0.97202587, -0.16810699, -0.68679626, -1.50506414],\n",
       "       [ 2.57059639, -0.18306733,  2.02530953,  0.2985027 , -0.90871975],\n",
       "       [-0.19007478,  0.73282955,  1.1147944 , -1.90763697,  1.24733503]])"
      ]
     },
     "execution_count": 150,
     "metadata": {},
     "output_type": "execute_result"
    }
   ],
   "source": [
    "X = np.random.randn(5, 5)\n",
    "X"
   ]
  },
  {
   "cell_type": "code",
   "execution_count": 151,
   "metadata": {},
   "outputs": [],
   "source": [
    "mat = X.T.dot(X)"
   ]
  },
  {
   "cell_type": "code",
   "execution_count": 152,
   "metadata": {},
   "outputs": [
    {
     "data": {
      "text/plain": [
       "array([[ 27.69314084, -22.32517896, -26.98989808, -18.53944599,\n",
       "         15.49127718],\n",
       "       [-22.32517896,  18.14106827,  21.7792086 ,  15.00097476,\n",
       "        -12.51968673],\n",
       "       [-26.98989808,  21.7792086 ,  26.47559026,  18.16007267,\n",
       "        -15.10188365],\n",
       "       [-18.53944599,  15.00097476,  18.16007267,  12.69664102,\n",
       "        -10.28201844],\n",
       "       [ 15.49127718, -12.51968673, -15.10188365, -10.28201844,\n",
       "          8.89183023]])"
      ]
     },
     "execution_count": 152,
     "metadata": {},
     "output_type": "execute_result"
    }
   ],
   "source": [
    "inv(mat)"
   ]
  },
  {
   "cell_type": "code",
   "execution_count": 153,
   "metadata": {},
   "outputs": [
    {
     "data": {
      "text/plain": [
       "array([[ 1.00000000e+00,  1.07380311e-14,  8.63475984e-15,\n",
       "        -1.03494635e-14, -1.18938641e-14],\n",
       "       [ 2.21983355e-14,  1.00000000e+00, -1.11898141e-14,\n",
       "         1.29464756e-15,  5.69285107e-15],\n",
       "       [-2.29948668e-14, -2.98300037e-15,  1.00000000e+00,\n",
       "        -2.43308712e-14,  1.17948214e-15],\n",
       "       [ 4.49400849e-15, -1.35941397e-14, -9.64883486e-15,\n",
       "         1.00000000e+00, -3.18507359e-15],\n",
       "       [ 4.53495277e-16,  3.81801529e-15, -1.48665754e-14,\n",
       "        -1.19159622e-14,  1.00000000e+00]])"
      ]
     },
     "execution_count": 153,
     "metadata": {},
     "output_type": "execute_result"
    }
   ],
   "source": [
    "mat.dot(inv(mat))"
   ]
  },
  {
   "cell_type": "code",
   "execution_count": 154,
   "metadata": {},
   "outputs": [
    {
     "data": {
      "text/plain": [
       "array([[ 1.00000000e+00, -6.44956850e-15, -1.68397685e-14,\n",
       "        -7.60672678e-15, -1.99634963e-14],\n",
       "       [ 6.02901148e-14,  1.00000000e+00,  1.04018265e-14,\n",
       "        -1.49340443e-15,  1.00241522e-14],\n",
       "       [ 1.34342464e-15, -3.85819214e-15,  1.00000000e+00,\n",
       "        -1.88643817e-14,  5.55041623e-15],\n",
       "       [ 1.07809107e-14,  8.62626954e-15, -5.61697380e-15,\n",
       "         1.00000000e+00, -5.70982529e-15],\n",
       "       [-1.89992914e-14, -1.41257628e-15, -2.37323154e-15,\n",
       "         7.47306744e-15,  1.00000000e+00]])"
      ]
     },
     "execution_count": 154,
     "metadata": {},
     "output_type": "execute_result"
    }
   ],
   "source": [
    "inv(mat).dot(mat)"
   ]
  },
  {
   "cell_type": "code",
   "execution_count": 155,
   "metadata": {},
   "outputs": [],
   "source": [
    "q, r = qr(mat)"
   ]
  },
  {
   "cell_type": "code",
   "execution_count": 156,
   "metadata": {},
   "outputs": [
    {
     "data": {
      "text/plain": [
       "array([[-11.80805975,  -6.07541976,  -6.64312547,   0.70284556,\n",
       "          1.56732018],\n",
       "       [  0.        ,  -7.70751347,   0.84676206,   4.11931972,\n",
       "         -4.69619642],\n",
       "       [  0.        ,   0.        ,  -6.4410125 ,   5.61133731,\n",
       "         -4.49905171],\n",
       "       [  0.        ,   0.        ,   0.        ,  -1.87854216,\n",
       "         -2.25365464],\n",
       "       [  0.        ,   0.        ,   0.        ,   0.        ,\n",
       "          0.03514567]])"
      ]
     },
     "execution_count": 156,
     "metadata": {},
     "output_type": "execute_result"
    }
   ],
   "source": [
    "r"
   ]
  },
  {
   "cell_type": "markdown",
   "metadata": {},
   "source": [
    "# Pseudorandom Number Generation"
   ]
  },
  {
   "cell_type": "code",
   "execution_count": 164,
   "metadata": {},
   "outputs": [
    {
     "data": {
      "text/plain": [
       "array([[-0.11566835,  0.72844393,  1.53669008, -1.08019603],\n",
       "       [ 1.05116554, -2.64859968,  0.18708949, -1.27776243],\n",
       "       [ 0.77720306,  1.4543581 ,  1.12914819, -1.3188914 ],\n",
       "       [ 1.85556308,  0.75466028, -0.49158956, -0.90572249]])"
      ]
     },
     "execution_count": 164,
     "metadata": {},
     "output_type": "execute_result"
    }
   ],
   "source": [
    "samples = np.random.normal(size = (4, 4)) # normal distribution\n",
    "samples"
   ]
  },
  {
   "cell_type": "code",
   "execution_count": 165,
   "metadata": {},
   "outputs": [],
   "source": [
    "from random import normalvariate"
   ]
  },
  {
   "cell_type": "code",
   "execution_count": 166,
   "metadata": {},
   "outputs": [],
   "source": [
    "N = 1000000"
   ]
  },
  {
   "cell_type": "code",
   "execution_count": 167,
   "metadata": {},
   "outputs": [
    {
     "name": "stdout",
     "output_type": "stream",
     "text": [
      "858 ms ± 31.3 ms per loop (mean ± std. dev. of 7 runs, 1 loop each)\n"
     ]
    }
   ],
   "source": [
    "%timeit samples = [normalvariate(0, 1) for _ in range(N)]"
   ]
  },
  {
   "cell_type": "code",
   "execution_count": 168,
   "metadata": {},
   "outputs": [
    {
     "name": "stdout",
     "output_type": "stream",
     "text": [
      "31.3 ms ± 2.5 ms per loop (mean ± std. dev. of 7 runs, 10 loops each)\n"
     ]
    }
   ],
   "source": [
    "%timeit np.random.normal(size = N)"
   ]
  },
  {
   "cell_type": "code",
   "execution_count": 169,
   "metadata": {},
   "outputs": [],
   "source": [
    "np.random.seed(1234)"
   ]
  },
  {
   "cell_type": "code",
   "execution_count": 170,
   "metadata": {},
   "outputs": [
    {
     "data": {
      "text/plain": [
       "array([ 0.47143516, -1.19097569,  1.43270697, -0.3126519 , -0.72058873,\n",
       "        0.88716294,  0.85958841, -0.6365235 ,  0.01569637, -2.24268495])"
      ]
     },
     "execution_count": 170,
     "metadata": {},
     "output_type": "execute_result"
    }
   ],
   "source": [
    "rng = np.random.RandomState(1234)\n",
    "rng.randn(10)\n",
    "# random state isolated from others"
   ]
  },
  {
   "cell_type": "markdown",
   "metadata": {},
   "source": [
    "# Random Walks"
   ]
  },
  {
   "cell_type": "code",
   "execution_count": 172,
   "metadata": {},
   "outputs": [],
   "source": [
    "import random\n",
    "position = 0\n",
    "walk = [position]\n",
    "steps = 1000\n",
    "for i in range(steps):\n",
    "    step = 1 if random.randint(0, 1) else -1\n",
    "    position +=step\n",
    "    walk.append(position)"
   ]
  },
  {
   "cell_type": "code",
   "execution_count": 173,
   "metadata": {},
   "outputs": [],
   "source": [
    "import matplotlib.pyplot as plt"
   ]
  },
  {
   "cell_type": "code",
   "execution_count": 174,
   "metadata": {},
   "outputs": [
    {
     "data": {
      "text/plain": [
       "[<matplotlib.lines.Line2D at 0x2688094c128>]"
      ]
     },
     "execution_count": 174,
     "metadata": {},
     "output_type": "execute_result"
    },
    {
     "data": {
      "image/png": "[encoded data removed]",
      "text/plain": [
       "<Figure size 432x288 with 1 Axes>"
      ]
     },
     "metadata": {
      "needs_background": "light"
     },
     "output_type": "display_data"
    }
   ],
   "source": [
    "plt.plot(walk[:100])"
   ]
  },
  {
   "cell_type": "code",
   "execution_count": 175,
   "metadata": {},
   "outputs": [],
   "source": [
    "nsteps = 1000"
   ]
  },
  {
   "cell_type": "code",
   "execution_count": 176,
   "metadata": {},
   "outputs": [],
   "source": [
    "draws = np.random.randint(0 ,2 ,size = nsteps)"
   ]
  },
  {
   "cell_type": "code",
   "execution_count": 177,
   "metadata": {},
   "outputs": [],
   "source": [
    "steps = np.where(draws > 0, 1, -1)"
   ]
  },
  {
   "cell_type": "code",
   "execution_count": 178,
   "metadata": {},
   "outputs": [],
   "source": [
    "walk = steps.cumsum()"
   ]
  },
  {
   "cell_type": "code",
   "execution_count": 179,
   "metadata": {},
   "outputs": [
    {
     "data": {
      "text/plain": [
       "-9"
      ]
     },
     "execution_count": 179,
     "metadata": {},
     "output_type": "execute_result"
    }
   ],
   "source": [
    "walk.min()"
   ]
  },
  {
   "cell_type": "code",
   "execution_count": 181,
   "metadata": {},
   "outputs": [
    {
     "data": {
      "text/plain": [
       "60"
      ]
     },
     "execution_count": 181,
     "metadata": {},
     "output_type": "execute_result"
    }
   ],
   "source": [
    "walk.max()"
   ]
  },
  {
   "cell_type": "code",
   "execution_count": 182,
   "metadata": {},
   "outputs": [
    {
     "data": {
      "text/plain": [
       "297"
      ]
     },
     "execution_count": 182,
     "metadata": {},
     "output_type": "execute_result"
    }
   ],
   "source": [
    "(np.abs(walk) >= 10).argmax()"
   ]
  },
  {
   "cell_type": "code",
   "execution_count": 183,
   "metadata": {},
   "outputs": [],
   "source": [
    "# many random walks at once\n",
    "nwalks = 5000"
   ]
  },
  {
   "cell_type": "code",
   "execution_count": 184,
   "metadata": {},
   "outputs": [],
   "source": [
    "nsteps = 1000"
   ]
  },
  {
   "cell_type": "code",
   "execution_count": 185,
   "metadata": {},
   "outputs": [],
   "source": [
    "draws = np.random.randint(0, 2, size = (nwalks, nsteps))"
   ]
  },
  {
   "cell_type": "code",
   "execution_count": 186,
   "metadata": {},
   "outputs": [],
   "source": [
    "steps = np.where(draws > 0, 1, -1)"
   ]
  },
  {
   "cell_type": "code",
   "execution_count": 187,
   "metadata": {},
   "outputs": [],
   "source": [
    "walks = steps.cumsum(1)"
   ]
  },
  {
   "cell_type": "code",
   "execution_count": 188,
   "metadata": {},
   "outputs": [
    {
     "data": {
      "text/plain": [
       "array([[  1,   2,   3, ...,  46,  47,  46],\n",
       "       [  1,   0,   1, ...,  40,  41,  42],\n",
       "       [  1,   2,   3, ..., -26, -27, -28],\n",
       "       ...,\n",
       "       [  1,   0,   1, ...,  64,  65,  66],\n",
       "       [  1,   2,   1, ...,   2,   1,   0],\n",
       "       [ -1,  -2,  -3, ...,  32,  33,  34]], dtype=int32)"
      ]
     },
     "execution_count": 188,
     "metadata": {},
     "output_type": "execute_result"
    }
   ],
   "source": [
    "walks"
   ]
  },
  {
   "cell_type": "code",
   "execution_count": 190,
   "metadata": {},
   "outputs": [
    {
     "data": {
      "text/plain": [
       "122"
      ]
     },
     "execution_count": 190,
     "metadata": {},
     "output_type": "execute_result"
    }
   ],
   "source": [
    "walks.max()"
   ]
  },
  {
   "cell_type": "code",
   "execution_count": 191,
   "metadata": {},
   "outputs": [
    {
     "data": {
      "text/plain": [
       "-128"
      ]
     },
     "execution_count": 191,
     "metadata": {},
     "output_type": "execute_result"
    }
   ],
   "source": [
    "walks.min()"
   ]
  },
  {
   "cell_type": "code",
   "execution_count": 192,
   "metadata": {},
   "outputs": [],
   "source": [
    "hits30 = (np.abs(walks) >= 10).any(1)"
   ]
  },
  {
   "cell_type": "code",
   "execution_count": 193,
   "metadata": {},
   "outputs": [
    {
     "data": {
      "text/plain": [
       "array([ True,  True,  True, ...,  True,  True,  True])"
      ]
     },
     "execution_count": 193,
     "metadata": {},
     "output_type": "execute_result"
    }
   ],
   "source": [
    "hits30"
   ]
  },
  {
   "cell_type": "code",
   "execution_count": 194,
   "metadata": {},
   "outputs": [
    {
     "data": {
      "text/plain": [
       "5000"
      ]
     },
     "execution_count": 194,
     "metadata": {},
     "output_type": "execute_result"
    }
   ],
   "source": [
    "hits30.sum()"
   ]
  },
  {
   "cell_type": "code",
   "execution_count": 195,
   "metadata": {},
   "outputs": [],
   "source": [
    "crossing_times = (np.abs(walks[hits30]) >= 30).argmax(1)"
   ]
  },
  {
   "cell_type": "code",
   "execution_count": 196,
   "metadata": {},
   "outputs": [
    {
     "data": {
      "text/plain": [
       "343.5344"
      ]
     },
     "execution_count": 196,
     "metadata": {},
     "output_type": "execute_result"
    }
   ],
   "source": [
    "crossing_times.mean()"
   ]
  }
 ],
 "metadata": {
  "kernelspec": {
   "display_name": "Python 3",
   "language": "python",
   "name": "python3"
  },
  "language_info": {
   "codemirror_mode": {
    "name": "ipython",
    "version": 3
   },
   "file_extension": ".py",
   "mimetype": "text/x-python",
   "name": "python",
   "nbconvert_exporter": "python",
   "pygments_lexer": "ipython3",
   "version": "3.7.3"
  }
 },
 "nbformat": 4,
 "nbformat_minor": 2
}
